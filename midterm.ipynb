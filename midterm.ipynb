{
 "cells": [
  {
   "cell_type": "markdown",
   "id": "1abc400e-c7cb-44d3-9488-3bb9c9350dea",
   "metadata": {},
   "source": [
    "# City of Calgary Traffic Incidents Exploratory Data Analysis"
   ]
  },
  {
   "cell_type": "markdown",
   "id": "d4791bdb-feb4-4caf-b3a6-02c0c5ee5ead",
   "metadata": {},
   "source": [
    "## 1. Introduction"
   ]
  },
  {
   "cell_type": "markdown",
   "id": "674b1fe8-627a-45cb-95d5-1ccfb9fb9657",
   "metadata": {},
   "source": [
    "### 1.1 Project Overview\n",
    "\n",
    "The City of Calgary is consistently rated as one of the best places to live in the world according to the [EIU](https://moving2canada.com/news-and-features/features/planning/destination-guides/calgary/2022-eiu-liveability-index-three-canadian-cities-top-ten/). With its proximity to the Rocky Mountains and it's large business sector, Calgary provides to all demographics an excellent place to call home. With all the locations to visit within and around the city, Calgary has an avid commuter culture. I happen to be one such commuter.\n",
    "\n",
    "During my commuting time, I stick to roads in the southwest quadrant of the city and have never been in a traffic incident. However, many traffic incidents are reported via radio at high volume times. Combining this with my recent exploration of northwest and northeast quadrants of the city, I began to ask myself whether I am at a higher risk of being in an accident. Naively, I would assume that smaller roads and more cars would mean more incidents. In particular, downtown streets or busy highways with small merges seem like the most likely place to have an incident.\n",
    "\n",
    "In order to answer the question of \"In what area's and at what time are commuters most likely to be involved in a traffic incident in Calgary.\" We can use data from the traffic incident dataset provided by the City of Calgary's [open data](https://data.calgary.ca/Transportation-Transit/Traffic-Incidents/35ra-9556) website. The data from this website can be used to get insight into the traffic incident patterns of the burgeoning metropolitan city by utilizing exploratory data analysis and further data exploration techniques such as predictive modeling and machine learning algorithms."
   ]
  },
  {
   "cell_type": "markdown",
   "id": "8cf49ab4-4701-4859-b944-17a75f46b205",
   "metadata": {},
   "source": [
    "### 1.2 Literature Review and background\n",
    "\n",
    "Traffic incidents are a heavily researched area. The [World Health Organization](https://www.who.int/news-room/fact-sheets/detail/road-traffic-injuries) has an overview of traffic incidents within the global picture. Some key points are below:\n",
    "\n",
    "- Approximately 1.3 million individuals die each year as a result of a traffic incident.\n",
    "- 93% of the world's fatalities on the roads occur in low- and middle-income countries, even though these countries have approximately 60% of the world's vehicles.\n",
    "\n",
    "The upcoming analysis will use the global statistics as a soft guide. The data from Calgary is expected to show us a higher number of traffic incidents in lower-income areas, such as Forest Lawn.\n",
    "\n",
    "Research has also taken place on a more focused level within the City of Calgary. The dataset this project focuses on has been at the center of analysis before. Data analysis of the 2020 traffic incidents compared to 2019 was completed [here](https://pub-calgary.escribemeetings.com/filestream.ashx?DocumentId=189649). It shows a sharp decline in overall incidents. Which is expected during the height of the lockdown in Alberta, Canada. While the linked paper focuses more on the stats from 2019 compared to 2020, this project is to paint a larger overall picture using the complete dataset. With the increase in population and return to regular road use, analyzing data from \"normal\" times is crucial to understanding incident-heavy areas today.\n",
    "\n",
    "Another more informal analysis was conducted by Siavash Fard, M.Sc., P.Eng., PMP, which can be found on [LinkedIn](https://www.linkedin.com/pulse/prediction-traffic-incidents-calgary-siavash-fard-/). This analysis attempts to predict future incidents using the traffic incident dataset used in this study, in addition to data regarding traffic control devices. The report focuses on predicting traffic incidents, instead of visualizing and finding insights within the dataset.\n",
    "\n",
    "The former studies show a solid area for this project to focus on. We can use the former research projects to aid in defining the questions to answer throughout the analysis.\n"
   ]
  },
  {
   "cell_type": "markdown",
   "id": "6db738d8-ba1f-4bb8-b075-146af5d292cf",
   "metadata": {},
   "source": [
    "### 1.3 Aims and Objectives\n",
    "\n",
    "The goal of this exploratory data analysis is to get a high-level overview of traffic incidents in the City of Calgary. To pursue this goal, the following questions will be asked and answered:\n",
    "\n",
    "1. Which areas of the city have the most incidents?\n",
    "    - Hypothesis: Downtown roads and highways are the most dangerous roads.\n",
    "2. What time of day has the highest number of incidents?\n",
    "    - Hypothesis: Rush hours (8-9) and (5-6) are the most dangerous hours of weekdays.\n",
    "3. Does the day, week, month, or year cause variance in the frequency of incidents?\n",
    "    - Hypothesis: Winter months and weekdays are the most dangerous times to be on the road.\n",
    "4. What kind of incidents are happening?\n",
    "    - Does the type of incident affect the time between the start and end of said incident?\n",
    "    - Does the type of incident change based on location in the city?\n",
    "\n",
    "Answering these questions will allow us to pinpoint unsafe areas during a commute within the city. The data source noted that the dataset is updated every 10 minutes with new traffic incidents. Therefore, as the dataset grows, more data will be brought in to more thoroughly examine the nature of traffic incidents in Calgary.\n"
   ]
  },
  {
   "cell_type": "markdown",
   "id": "59f52660-bc2b-481f-879e-31cb3f2d4f43",
   "metadata": {},
   "source": [
    "### 1.4 Introduction Summary\n",
    "\n",
    "The City of Calgary is a diverse city with many commuters. Using data from the city, can insights be gained that will enable safer commutes and better city planning? The former research questions establish a starting path which will bring these insights to the forefront."
   ]
  },
  {
   "cell_type": "markdown",
   "source": [
    "### 1.5 Library Imports"
   ],
   "metadata": {
    "collapsed": false
   }
  },
  {
   "cell_type": "code",
   "execution_count": 1,
   "id": "88bef1b5-2455-403d-94ab-2a5dc417a8ff",
   "metadata": {},
   "outputs": [],
   "source": [
    "# Import Necessary Libraries\n",
    "\n",
    "# Basic imports to allow for data wrangling and analysis.\n",
    "import pandas as pd\n",
    "import numpy as np\n",
    "import matplotlib.pyplot as plt\n",
    "%matplotlib inline\n",
    "\n",
    "# Import Socrate library to get most up to date csv from open Calgary from API\n",
    "from sodapy import Socrata\n",
    "\n",
    "# Import random module to help in handling NaN values\n",
    "import random\n",
    "\n",
    "# Import folium to allow for interactive map use and drawing of heat map.\n",
    "import folium\n",
    "from folium.plugins import HeatMap\n",
    "\n",
    "# Import nltk to aid in natural language processing for text based data.\n",
    "import nltk\n",
    "\n",
    "# Import wordcloud to visualise words used in text based data.\n",
    "from wordcloud import WordCloud"
   ]
  },
  {
   "cell_type": "markdown",
   "id": "747458ba-c858-4a4c-9cb2-d9d7e8e6dc4d",
   "metadata": {},
   "source": [
    "## 2. Data Acquisition and Justification "
   ]
  },
  {
   "cell_type": "markdown",
   "id": "ea190f28-1124-4cdf-ae09-dba7287177f7",
   "metadata": {},
   "source": [
    "### 2.1 Data Source and Review\n",
    "\n",
    "As mentioned previously, we will be focusing on traffic incident data provided by the City of Calgary. This data is an archive of reported traffic incidents within the city. These traffic incidents range from stalled vehicles to multi-vehicle collisions. The dataset is updated every ten minutes and has been updated since December 4th, 2017. Analyzing this dataset will answer the research questions, and it provides a large enough dataset to gain meaningful insights into the traffic incidents in Calgary.\n",
    "\n",
    "Traffic incidents are collected via an advanced traveler information system, or ATIS, which collects information from a wide source of inputs. Inputs include commuter reported incidents via the WAZE application and traffic cameras. More information about Calgary's ATIS can be found [here](https://www.calgary.ca/roads/conditions/advanced-traveller-information-system.html).\n",
    "\n",
    "This dataset provides the most accurate picture of Calgary traffic incidents available for public use. It does however have its flaws. The website indicates, \"please note there may be gaps in the data due to system or script malfunction.\" This is a good indicator of problems areas to view during data cleansing. The data is also limited by the methods of reporting, for example instances where individuals may decide not to report. Instances of false positives, or errors in collection methodology. Ensuring effective data wrangling is employed will ensure the data is accurate and reasonably scrutinized."
   ]
  },
  {
   "cell_type": "markdown",
   "id": "c03f088d-5aad-4147-b2a0-92ab9181a6d2",
   "metadata": {
    "tags": []
   },
   "source": [
    "### 2.2 Data Comparison\n",
    "\n",
    "This data set is well suited to answer our research questions. This can be confirmed by comparing it to other sources of data within the traffic of Calgary sphere of information.\n",
    "\n",
    "The [Calgary Traffic Counts System](https://trafficcounts.calgary.ca/) is another open data source provided by the city of Calgary. It provides data related to traffic around major intersections. This data has been collected for over 40 years. Which would paint a much better historical picture of the traffic situation in Calgary. The data does not explicitly show incidents, rather the overall use of the roads within Calgary. It would be better suited towards understanding the growth and use of the roads in general as opposed to the roads and times which are the most dangerous.\n",
    "\n",
    "Considering the sources for accurate data are quite slim, we are limited to data provided by either the Alberta government or the City of Calgary. An example of data from the Alberta government can be found [here](https://open.alberta.ca/opendata/traffic-collision-casualties-alberta). This dataset is a high level overview of the number of incidents, deaths and injuries by year related to traffic incidents. Going from 2001-2014. This dataset paints an overall picture. However, each incident does not have associated information, there's no precise date and there is not any true analysis to follow because the dataset is so simple. It could be useful as supplementary data for this project. Comparing and contrasting Calgary's total incident rater to the provinces. Overall it is not ideal for our research area."
   ]
  },
  {
   "cell_type": "markdown",
   "id": "1077536f-a5fd-49a7-871b-c5c33475c9d0",
   "metadata": {},
   "source": [
    "### 2.3 Scope of work\n",
    "\n",
    "To answer the research questions; Patterns, trends and insights will need to be found within our dataset. To ensure these goals are met, the project will follow the below scope of work.\n",
    "\n",
    "- Import the dataset and conduct initial data exploration and cleaning. \n",
    "    - i.e. check for missing values, boundary cases or possible inaccuracies and validate data types.\n",
    "- Modify the data by adjusting any problem areas found in the prior step.\n",
    "- Conduct exploratory data analysis to bring the patterns, insights and trends to the surface which will answer our research questions.\n",
    "- Evaluate and summarize the findings brought to light by the EDA, ensuring these are linked back to the research questions.\n",
    "- Reflect on the process and outcomes of the EDA, from start to finish. Observing any potential mis-steps or areas that could be improved.\n",
    "\n",
    "This scope of work will ensure our research questions are answered. It will also allow for the data to be further processed and involved in future predictive modeling or machine learning algorithm to help gain further insights into traffic incidents in the City of Calgary."
   ]
  },
  {
   "cell_type": "markdown",
   "id": "b5140243-cec0-4160-9592-26fcd52f2df7",
   "metadata": {},
   "source": [
    "### 2.4 Loading the Data\n",
    "\n",
    "#### Marker Note\n",
    "The below code was taken directly [this](https://stackoverflow.com/questions/46572365/import-data-to-dataframe-using-soda-api) stack overflow post.\n",
    "\n",
    "If the below code does not execute, a back-up file is provided. The data was saved on May 28th, 2023."
   ]
  },
  {
   "cell_type": "code",
   "execution_count": 2,
   "id": "1a4150dd-9cf9-4568-b5aa-eb8d83629167",
   "metadata": {},
   "outputs": [],
   "source": [
    "# Load updated data from https://data.calgary.ca/Transportation-Transit/Traffic-Incidents/35ra-9556\n",
    "\n",
    "# Unauthenticated client only works with public data sets. Note 'None'\n",
    "# in place of application token, and no username or password:\n",
    "##client = Socrata(\"data.calgary.ca\", None)\n",
    "\n",
    "# First 2000 results, returned as JSON from API / converted to Python list of\n",
    "# dictionaries by sodapy.\n",
    "##results = client.get_all(\"35ra-9556\")\n",
    "\n",
    "# Convert to pandas DataFrame\n",
    "##df = pd.DataFrame.from_records(results)"
   ]
  },
  {
   "cell_type": "code",
   "execution_count": 3,
   "id": "9c956f34-da8c-4718-b6b9-55c0dc418956",
   "metadata": {},
   "outputs": [],
   "source": [
    "# BACK UP CODE IF API FAILS.\n",
    "\n",
    "df = pd.read_csv(\"traffic-incidents-05-30-2023.csv\")"
   ]
  },
  {
   "cell_type": "markdown",
   "id": "e52bf8b3-5900-4782-b1e2-e797e30aad8c",
   "metadata": {},
   "source": [
    "### 2.4 Data Acquisition and Justification Summary\n",
    "\n",
    "The dataset from open Calgary combined with our review of similar research papers/analysis will allow us to ask important questions and provide accurate insights that have yet to be explored."
   ]
  },
  {
   "cell_type": "markdown",
   "source": [
    "## 3. Ethical Consideration"
   ],
   "metadata": {
    "collapsed": false
   }
  },
  {
   "cell_type": "markdown",
   "source": [
    "### 3.1 License and Terms of Use\n",
    "\n",
    "The dataset of focus in this project is subject to an open government license. Indicating the data can be used with little to no limitations. The [license](https://data.calgary.ca/stories/s/Open-Calgary-Terms-of-Use/u45n-7awa) agreement has few conditions and indicates the data can be used for any legal purpose, including commercial. A portion of the agreement can be found below.\n",
    "\n",
    "The terms indicate;\n",
    "\n",
    "The Information Provider grants you a worldwide, royalty-free, perpetual, non-exclusive license to use the Information, including for commercial purposes, subject to the terms below. You are free to: Copy, modify, publish, translate, adapt, distribute or otherwise use the Information in any medium, mode or format for any lawful purpose.\n",
    "\n",
    "Therefore, based upon the terms of use, we have express permission to complete an exploratory data analysis research project based on this dataset."
   ],
   "metadata": {
    "collapsed": false
   }
  },
  {
   "cell_type": "markdown",
   "source": [
    "### 3.2 Ethical Ramifications of Data Use\n",
    "\n",
    "The above terms of use confirm the data is free, open and encouraged to be used in multiple areas. However, are there any negative insights or repercussions that could come to light from using the data?\n",
    "\n",
    "Ensuring data analysis produces reliable and accurate results is not always easy. Some things to keep in mind when analysing any data include: privacy concerns, misleading insights and biases. How does this dataset appear when keeping these items in mind?\n",
    "\n",
    "- Privacy\n",
    "    - The dataset does not have any identifying information within. It only contains information regarding the incident nature, location and time. Items like license plates, individuals involved or any other kind of identifying information is not contained within the data. Therefore, during analysis of this dataset, privacy concerns should be at a minimum. That being said, the individuals involved in the incidents reported in this dataset most likely do not know that their incident was recorded in this manner. While this is still a miniscule issue, it shows how much data is collected on an individuals actions throughout the day. Even down to their driving habits.\n",
    "- Misleading Insights\n",
    "    - This is a big area of concern with this dataset. To start, we know the data is formed from an RSS feed that originates from [this](https://www.calgary.ca/roads/conditions/traffic.html) website. This website reports, \"Details on road construction, road closures, detours, accidents and incidents that may affect your commute are shown on the map.\" All these details are collected using Calgary's ATIS system. Which is a network of traffic camera's and other data collection systems. A map of the traffic camera's in the City of Calgary can be found below. This information brings a couple of issues to light.\n",
    "        - The camera's only appear to be on heavily used roadways. An understandable decision in terms of efficiency, but an issue in terms of data collection. Area's of the city with lower traffic volumes can have traffic incidents which are not properly reported if the ATIS does not have sufficient monitoring abilities in that area.\n",
    "        - During poor visibility weather, the system may have issue's identifying incidents.\n",
    "        - The data has a large amount of missing data in the modified_dt column which is supposed to contain the date and time regarding when the incident was resolved. This is most likely due to system failure. However, it highlights a large issue with this dataset in the reliability of the modified_dt column. How accurate is the system in reporting when an incident is cleared? This question can't really be answered from our outside perspective. Therefore, any data regarding total incident time should be taken with a grain of salt.\n",
    "        - The data has a time period where a system malfunction occurred. From July 2019 - August 2019. This is to be kept in mind should analysis require pinpointing this time period.\n",
    "    - Overall the data should be used to gain a big picture understanding of the incident behaviour in Calgary. However, More meaningful insights should be cross-referenced with datasets from other city's and compared with former literature to ensure that the data presented and the current understanding of traffic incidents is comparable.\n",
    "- Biases\n",
    "    - The dataset's bias come more from ATIS limitations than potential socioeconomic bias points. The limitations of the ATIS system may lead to better reporting in higher observed roads and areas. Bias should be kept in mind when working with this data. However, it's not a forefront issue."
   ],
   "metadata": {
    "collapsed": false
   }
  },
  {
   "cell_type": "markdown",
   "source": [
    "### 3.3 Ethical Considerations Summary\n",
    "\n",
    "Open Calgary as a whole is a great website to find free and open license data. This dataset is no exception. While we should always have ethical consideration on our mind, this dataset is relatively safe to use from a license perspective and from an ethical consideration standpoint. Further ethical decisions may arise while exploring the data. These issues will be dealt with when they arise."
   ],
   "metadata": {
    "collapsed": false
   }
  },
  {
   "cell_type": "markdown",
   "id": "81a58c44-0473-4145-ba51-2f8519d06917",
   "metadata": {},
   "source": [
    "## 4. Data Exploration and Cleaning"
   ]
  },
  {
   "cell_type": "markdown",
   "id": "31197e42-48fb-4f07-ae3d-871fc663ee70",
   "metadata": {},
   "source": [
    "### 4.1 Data Exploration\n",
    "\n",
    "The dataset is to be explored in a simple manner in this section to ensure the data is ready for analysis. Which includes, understanding the rows and column values. Removing unneeded data and adjusting invalid values."
   ]
  },
  {
   "cell_type": "code",
   "execution_count": 4,
   "id": "c298f44b-721d-4d4f-923a-bc99504ccb41",
   "metadata": {
    "tags": []
   },
   "outputs": [
    {
     "data": {
      "text/plain": "(39814, 13)"
     },
     "execution_count": 4,
     "metadata": {},
     "output_type": "execute_result"
    }
   ],
   "source": [
    "df.shape"
   ]
  },
  {
   "cell_type": "markdown",
   "id": "2e867454-6402-4220-9de4-927f34a24648",
   "metadata": {},
   "source": [
    "The shape property shows us that there have been approximately 40,000 traffic incidents since this dataset has started collection. The dataset also has 13 points of data per incident to analyse and compare. An idea about the data columns and their irrespective information can be gathered by using the columns, head(), tail(), sample(), info(), and describe() properties/methods on the dataframe."
   ]
  },
  {
   "cell_type": "code",
   "execution_count": 5,
   "id": "1eb92be6-843c-41a9-a2db-9ee8f2a2432a",
   "metadata": {},
   "outputs": [
    {
     "name": "stdout",
     "output_type": "stream",
     "text": [
      "<class 'pandas.core.frame.DataFrame'>\n",
      "RangeIndex: 39814 entries, 0 to 39813\n",
      "Data columns (total 13 columns):\n",
      " #   Column                       Non-Null Count  Dtype  \n",
      "---  ------                       --------------  -----  \n",
      " 0   incident_info                39814 non-null  object \n",
      " 1   description                  39812 non-null  object \n",
      " 2   start_dt                     39814 non-null  object \n",
      " 3   modified_dt                  25757 non-null  object \n",
      " 4   quadrant                     25755 non-null  object \n",
      " 5   longitude                    39814 non-null  float64\n",
      " 6   latitude                     39814 non-null  float64\n",
      " 7   count                        39814 non-null  int64  \n",
      " 8   id                           39814 non-null  object \n",
      " 9   point                        39814 non-null  object \n",
      " 10  :@computed_region_kxmf_bzkv  39721 non-null  float64\n",
      " 11  :@computed_region_4a3i_ccfj  39721 non-null  float64\n",
      " 12  :@computed_region_4b54_tmc4  39718 non-null  float64\n",
      "dtypes: float64(5), int64(1), object(7)\n",
      "memory usage: 3.9+ MB\n"
     ]
    }
   ],
   "source": [
    "df.info()"
   ]
  },
  {
   "cell_type": "markdown",
   "id": "1db1bc41-8c58-48c4-930a-04b7ba5c541a",
   "metadata": {},
   "source": [
    "The info method indicates we have a dataset that is fairly healthy. However, it is clear the datatype of 6 columns need to be adjusted to ensure proper analysis can take place. The column's description, modified_dt and quadrant all have null values in them. Description only has two which would indicate an easy fix can take place, while the latter two will need a more complex fix as close to 40% of their values are null. This would skew any data analysis we produce if we leave them as is. Methodology for fixing these values will be followed in the cleaning portion of this section."
   ]
  },
  {
   "cell_type": "code",
   "execution_count": 6,
   "id": "df81ea9b-1d97-4eaa-9e95-4c8f8acb374a",
   "metadata": {},
   "outputs": [
    {
     "data": {
      "text/plain": "                                       incident_info  \\\n0                   68 Street north of 32 Avenue NE    \n1         Woodpark Boulevard and Woodpark Avenue SW    \n2                 Evanston Drive and Evanston Hl NW    \n3                    Macleod Trail and 69 Avenue SW    \n4   Northbound Shaganappi Trail north of Stoney T...   \n\n                                 description                 start_dt  \\\n0                          Traffic incident.  2023-05-30T18:40:52.000   \n1                          Traffic incident.  2023-05-30T18:37:07.000   \n2                          Traffic incident.  2023-05-30T18:10:10.000   \n3  Traffic incident. Blocking multiple lanes  2023-05-30T18:00:26.000   \n4   Traffic incident. Blocking the left lane  2023-05-30T17:39:58.000   \n\n               modified_dt quadrant   longitude   latitude  count  \\\n0  2023-05-30T19:11:29.000       NE -113.935126  51.082180      1   \n1  2023-05-30T19:11:29.000       SW -114.109466  50.947267      1   \n2  2023-05-30T18:42:16.000       NW -114.111164  51.179749      1   \n3  2023-05-30T18:01:55.000       NW -114.071656  50.991433      1   \n4  2023-05-30T17:42:19.000       NW -114.140886  51.154299      1   \n\n                                                  id  \\\n0  2023-05-30T18:40:5251.082180180176614-113.9351...   \n1  2023-05-30T18:37:0750.94726710588861-114.10946...   \n2  2023-05-30T18:10:1051.17974859950634-114.11116...   \n3  2023-05-30T18:00:2650.991433177037095-114.0716...   \n4  2023-05-30T17:39:5851.154298543179905-114.1408...   \n\n                                               point  \\\n0  {'type': 'Point', 'coordinates': [-113.9351261...   \n1  {'type': 'Point', 'coordinates': [-114.1094664...   \n2  {'type': 'Point', 'coordinates': [-114.1111640...   \n3  {'type': 'Point', 'coordinates': [-114.0716556...   \n4  {'type': 'Point', 'coordinates': [-114.1408859...   \n\n   :@computed_region_kxmf_bzkv  :@computed_region_4a3i_ccfj  \\\n0                        161.0                          4.0   \n1                        216.0                          1.0   \n2                        237.0                          2.0   \n3                        120.0                          1.0   \n4                        220.0                          2.0   \n\n   :@computed_region_4b54_tmc4  \n0                          9.0  \n1                          5.0  \n2                          3.0  \n3                          8.0  \n4                          3.0  ",
      "text/html": "<div>\n<style scoped>\n    .dataframe tbody tr th:only-of-type {\n        vertical-align: middle;\n    }\n\n    .dataframe tbody tr th {\n        vertical-align: top;\n    }\n\n    .dataframe thead th {\n        text-align: right;\n    }\n</style>\n<table border=\"1\" class=\"dataframe\">\n  <thead>\n    <tr style=\"text-align: right;\">\n      <th></th>\n      <th>incident_info</th>\n      <th>description</th>\n      <th>start_dt</th>\n      <th>modified_dt</th>\n      <th>quadrant</th>\n      <th>longitude</th>\n      <th>latitude</th>\n      <th>count</th>\n      <th>id</th>\n      <th>point</th>\n      <th>:@computed_region_kxmf_bzkv</th>\n      <th>:@computed_region_4a3i_ccfj</th>\n      <th>:@computed_region_4b54_tmc4</th>\n    </tr>\n  </thead>\n  <tbody>\n    <tr>\n      <th>0</th>\n      <td>68 Street north of 32 Avenue NE</td>\n      <td>Traffic incident.</td>\n      <td>2023-05-30T18:40:52.000</td>\n      <td>2023-05-30T19:11:29.000</td>\n      <td>NE</td>\n      <td>-113.935126</td>\n      <td>51.082180</td>\n      <td>1</td>\n      <td>2023-05-30T18:40:5251.082180180176614-113.9351...</td>\n      <td>{'type': 'Point', 'coordinates': [-113.9351261...</td>\n      <td>161.0</td>\n      <td>4.0</td>\n      <td>9.0</td>\n    </tr>\n    <tr>\n      <th>1</th>\n      <td>Woodpark Boulevard and Woodpark Avenue SW</td>\n      <td>Traffic incident.</td>\n      <td>2023-05-30T18:37:07.000</td>\n      <td>2023-05-30T19:11:29.000</td>\n      <td>SW</td>\n      <td>-114.109466</td>\n      <td>50.947267</td>\n      <td>1</td>\n      <td>2023-05-30T18:37:0750.94726710588861-114.10946...</td>\n      <td>{'type': 'Point', 'coordinates': [-114.1094664...</td>\n      <td>216.0</td>\n      <td>1.0</td>\n      <td>5.0</td>\n    </tr>\n    <tr>\n      <th>2</th>\n      <td>Evanston Drive and Evanston Hl NW</td>\n      <td>Traffic incident.</td>\n      <td>2023-05-30T18:10:10.000</td>\n      <td>2023-05-30T18:42:16.000</td>\n      <td>NW</td>\n      <td>-114.111164</td>\n      <td>51.179749</td>\n      <td>1</td>\n      <td>2023-05-30T18:10:1051.17974859950634-114.11116...</td>\n      <td>{'type': 'Point', 'coordinates': [-114.1111640...</td>\n      <td>237.0</td>\n      <td>2.0</td>\n      <td>3.0</td>\n    </tr>\n    <tr>\n      <th>3</th>\n      <td>Macleod Trail and 69 Avenue SW</td>\n      <td>Traffic incident. Blocking multiple lanes</td>\n      <td>2023-05-30T18:00:26.000</td>\n      <td>2023-05-30T18:01:55.000</td>\n      <td>NW</td>\n      <td>-114.071656</td>\n      <td>50.991433</td>\n      <td>1</td>\n      <td>2023-05-30T18:00:2650.991433177037095-114.0716...</td>\n      <td>{'type': 'Point', 'coordinates': [-114.0716556...</td>\n      <td>120.0</td>\n      <td>1.0</td>\n      <td>8.0</td>\n    </tr>\n    <tr>\n      <th>4</th>\n      <td>Northbound Shaganappi Trail north of Stoney T...</td>\n      <td>Traffic incident. Blocking the left lane</td>\n      <td>2023-05-30T17:39:58.000</td>\n      <td>2023-05-30T17:42:19.000</td>\n      <td>NW</td>\n      <td>-114.140886</td>\n      <td>51.154299</td>\n      <td>1</td>\n      <td>2023-05-30T17:39:5851.154298543179905-114.1408...</td>\n      <td>{'type': 'Point', 'coordinates': [-114.1408859...</td>\n      <td>220.0</td>\n      <td>2.0</td>\n      <td>3.0</td>\n    </tr>\n  </tbody>\n</table>\n</div>"
     },
     "execution_count": 6,
     "metadata": {},
     "output_type": "execute_result"
    }
   ],
   "source": [
    "# get the first 5 rows of dataset\n",
    "df.head()"
   ]
  },
  {
   "cell_type": "markdown",
   "id": "c8eb0e2c-2df8-467d-9cb8-1f912a796d5d",
   "metadata": {},
   "source": [
    "From df.head() a few observations can be made.\n",
    "- ***incident_info*** contains the street(s) the incident took place on.\n",
    "- ***description*** is a brief sentence regarding the type of incident.\n",
    "    - \"Traffic incident\" is not descriptive and takes up 4 of the 5 data points. How many incidents are labelled with this information?\n",
    "- ***start_dt and modified_dt*** contain the start and end of the reporting of said incident.\n",
    "    - Potential to use these columns to get total time of clean-up and get an inference on the severity of the accident based on new total_time column.\n",
    "- ***quadrant*** is what part of the city the incident took place in.\n",
    "- ***longitude and latitude*** store the longitude and latitude respectively.\n",
    "- ***count*** has an unknown meaning. The open Calgary website does not have any information on this column.\n",
    "    - All columns appear to have the value 1? Will need to confirm and if so remove from dataframe.   \n",
    "- ***id*** is the identifier of the incident. It contains a concatenation of the start_dt, latitude and longitude columns\n",
    "    - This column appears to be what is current sorting the dataframe.\n",
    "    - This column is another candidate to be removed from the dataframe as sorting by start_dt is equivalent.   \n",
    "- ***point*** stores a JSON object which contains information for a point containing the longitude and latitude\n",
    "    - Appears to be an object used within sodapy. Could be useful for a map visualization.\n",
    "    - If the point column make it easy to visualise data on a map, the longitude and latitude columns could be removed. Or vice versa.\n",
    "- The last three columns appear to be a byproduct of the SODA API. The open Calgary website does not list these and [this](https://hub.safe.com/publishers/cdesisto/templates/socrata_computed_columns) website confirms this.\n",
    "    - When cleaning data these three columns are to be dropped as they provide no usable data."
   ]
  },
  {
   "cell_type": "code",
   "execution_count": 7,
   "id": "61271cae-7bdb-4c10-b14f-ad7e03f6d9e2",
   "metadata": {},
   "outputs": [
    {
     "data": {
      "text/plain": "                                           incident_info  \\\n39809  Southbound University Drive at Crowchild Trail NW   \n39810                   Ogden Road at Bonnybrook Road SE   \n39811                       Macleod Trail at 9 Avenue SE   \n39812  Eastbound Memorial Drive approaching Deerfoot ...   \n39813        Eastbound McKnight Boulevard at 2 Street NW   \n\n                                        description                 start_dt  \\\n39809                           2 vehicle incident.  2016-12-06T17:05:00.000   \n39810                           2 vehicle incident.  2016-12-06T16:26:00.000   \n39811                           2 vehicle incident.  2016-12-06T16:25:00.000   \n39812  2 vehicle incident blocking the middle lane.  2016-12-06T14:36:00.000   \n39813                       Multi vehicle incident.  2016-12-06T10:00:00.000   \n\n                   modified_dt quadrant   longitude   latitude  count  \\\n39809  2016-12-06T17:10:00.000       NW -114.119584  51.066391      1   \n39810  2016-12-06T16:38:00.000       SE -114.030872  51.028393      1   \n39811  2016-12-06T16:26:00.000       SE -114.058178  51.044471      1   \n39812  2016-12-06T14:42:00.000       NE -114.020548  51.047634      1   \n39813  2016-12-06T10:01:00.000       NW -114.064987  51.096111      1   \n\n                                               id  \\\n39809  2016-12-06T17:05:0051.06639113-114.1195835   \n39810  2016-12-06T16:26:0051.02839263-114.0308717   \n39811  2016-12-06T16:25:0051.04447099-114.0581785   \n39812   2016-12-06T14:36:0051.0476343-114.0205479   \n39813  2016-12-06T10:00:0051.09611149-114.0649874   \n\n                                                   point  \\\n39809  {'type': 'Point', 'coordinates': [-114.1195835...   \n39810  {'type': 'Point', 'coordinates': [-114.0308717...   \n39811  {'type': 'Point', 'coordinates': [-114.0581785...   \n39812  {'type': 'Point', 'coordinates': [-114.0205479...   \n39813  {'type': 'Point', 'coordinates': [-114.0649874...   \n\n       :@computed_region_kxmf_bzkv  :@computed_region_4a3i_ccfj  \\\n39809                        154.0                          2.0   \n39810                         98.0                          3.0   \n39811                        262.0                          3.0   \n39812                        137.0                          4.0   \n39813                        192.0                          2.0   \n\n       :@computed_region_4b54_tmc4  \n39809                          7.0  \n39810                         10.0  \n39811                          7.0  \n39812                         10.0  \n39813                          2.0  ",
      "text/html": "<div>\n<style scoped>\n    .dataframe tbody tr th:only-of-type {\n        vertical-align: middle;\n    }\n\n    .dataframe tbody tr th {\n        vertical-align: top;\n    }\n\n    .dataframe thead th {\n        text-align: right;\n    }\n</style>\n<table border=\"1\" class=\"dataframe\">\n  <thead>\n    <tr style=\"text-align: right;\">\n      <th></th>\n      <th>incident_info</th>\n      <th>description</th>\n      <th>start_dt</th>\n      <th>modified_dt</th>\n      <th>quadrant</th>\n      <th>longitude</th>\n      <th>latitude</th>\n      <th>count</th>\n      <th>id</th>\n      <th>point</th>\n      <th>:@computed_region_kxmf_bzkv</th>\n      <th>:@computed_region_4a3i_ccfj</th>\n      <th>:@computed_region_4b54_tmc4</th>\n    </tr>\n  </thead>\n  <tbody>\n    <tr>\n      <th>39809</th>\n      <td>Southbound University Drive at Crowchild Trail NW</td>\n      <td>2 vehicle incident.</td>\n      <td>2016-12-06T17:05:00.000</td>\n      <td>2016-12-06T17:10:00.000</td>\n      <td>NW</td>\n      <td>-114.119584</td>\n      <td>51.066391</td>\n      <td>1</td>\n      <td>2016-12-06T17:05:0051.06639113-114.1195835</td>\n      <td>{'type': 'Point', 'coordinates': [-114.1195835...</td>\n      <td>154.0</td>\n      <td>2.0</td>\n      <td>7.0</td>\n    </tr>\n    <tr>\n      <th>39810</th>\n      <td>Ogden Road at Bonnybrook Road SE</td>\n      <td>2 vehicle incident.</td>\n      <td>2016-12-06T16:26:00.000</td>\n      <td>2016-12-06T16:38:00.000</td>\n      <td>SE</td>\n      <td>-114.030872</td>\n      <td>51.028393</td>\n      <td>1</td>\n      <td>2016-12-06T16:26:0051.02839263-114.0308717</td>\n      <td>{'type': 'Point', 'coordinates': [-114.0308717...</td>\n      <td>98.0</td>\n      <td>3.0</td>\n      <td>10.0</td>\n    </tr>\n    <tr>\n      <th>39811</th>\n      <td>Macleod Trail at 9 Avenue SE</td>\n      <td>2 vehicle incident.</td>\n      <td>2016-12-06T16:25:00.000</td>\n      <td>2016-12-06T16:26:00.000</td>\n      <td>SE</td>\n      <td>-114.058178</td>\n      <td>51.044471</td>\n      <td>1</td>\n      <td>2016-12-06T16:25:0051.04447099-114.0581785</td>\n      <td>{'type': 'Point', 'coordinates': [-114.0581785...</td>\n      <td>262.0</td>\n      <td>3.0</td>\n      <td>7.0</td>\n    </tr>\n    <tr>\n      <th>39812</th>\n      <td>Eastbound Memorial Drive approaching Deerfoot ...</td>\n      <td>2 vehicle incident blocking the middle lane.</td>\n      <td>2016-12-06T14:36:00.000</td>\n      <td>2016-12-06T14:42:00.000</td>\n      <td>NE</td>\n      <td>-114.020548</td>\n      <td>51.047634</td>\n      <td>1</td>\n      <td>2016-12-06T14:36:0051.0476343-114.0205479</td>\n      <td>{'type': 'Point', 'coordinates': [-114.0205479...</td>\n      <td>137.0</td>\n      <td>4.0</td>\n      <td>10.0</td>\n    </tr>\n    <tr>\n      <th>39813</th>\n      <td>Eastbound McKnight Boulevard at 2 Street NW</td>\n      <td>Multi vehicle incident.</td>\n      <td>2016-12-06T10:00:00.000</td>\n      <td>2016-12-06T10:01:00.000</td>\n      <td>NW</td>\n      <td>-114.064987</td>\n      <td>51.096111</td>\n      <td>1</td>\n      <td>2016-12-06T10:00:0051.09611149-114.0649874</td>\n      <td>{'type': 'Point', 'coordinates': [-114.0649874...</td>\n      <td>192.0</td>\n      <td>2.0</td>\n      <td>2.0</td>\n    </tr>\n  </tbody>\n</table>\n</div>"
     },
     "execution_count": 7,
     "metadata": {},
     "output_type": "execute_result"
    }
   ],
   "source": [
    "# Display the last 5 elements to get an idea of the end of the dataframe.\n",
    "df.tail()"
   ]
  },
  {
   "cell_type": "markdown",
   "id": "6adc7401-ce56-408d-8073-462cd9ebbf22",
   "metadata": {},
   "source": [
    "We can see that the data goes back to 2016 instead of our initial understanding of 2017. This appears to of been an error on open Calgary's end. \n",
    "\n",
    "There is nothing out of the ordinary or not previously understood from df.head()."
   ]
  },
  {
   "cell_type": "code",
   "execution_count": 8,
   "id": "c188a07c-714d-4bf5-9727-b2d398e7d73e",
   "metadata": {},
   "outputs": [
    {
     "data": {
      "text/plain": "                                           incident_info  \\\n2189              Cranston Avenue and Deerfoot Trail SE    \n16534        Eastbound 16 Avenue and Shaganappi Trail NW   \n28608  Northbound Deerfoot Trail approaching McKnight...   \n27848               85 Street at Old Banff Coach Road SW   \n30640  Northbound Macleod Trail  and Midlake Boulevar...   \n\n                                            description  \\\n2189                                  Traffic incident.   \n16534                                 Traffic incident.   \n28608        Two vehicle incident. Blocking right lane.   \n27848                             Two vehicle incident.   \n30640  Single vehicle incident.  blocking the left lane   \n\n                      start_dt              modified_dt quadrant   longitude  \\\n2189   2023-01-27T15:47:41.000  2023-01-27T16:24:15.000       SE -113.969176   \n16534  2021-02-10T08:28:00.000                      NaN      NaN -114.148430   \n28608  2018-11-08T18:34:00.000  2018-11-08T18:43:00.000       NE -114.039967   \n27848  2018-12-18T17:04:00.000  2018-12-18T18:31:00.000       NW -114.211057   \n30640  2018-07-19T12:17:00.000  2018-07-19T13:15:00.000       SE -114.067720   \n\n        latitude  count                                                 id  \\\n2189   50.879738      1  2023-01-27T15:47:4150.87973761545267-113.96917...   \n16534  51.066036      1  2021-02-10T08:28:0751.06603640719783-114.14843...   \n28608  51.095199      1    2018110818340351.0951988549962-114.039966494718   \n27848  51.066748      1    2018121817043551.0667482860603-114.211057469052   \n30640  50.913953      1     2018071912170850.913952496706-114.067719606668   \n\n                                                   point  \\\n2189   {'type': 'Point', 'coordinates': [-113.9691755...   \n16534  {'type': 'Point', 'coordinates': [-114.1484301...   \n28608  {'type': 'Point', 'coordinates': [-114.0399665...   \n27848  {'type': 'Point', 'coordinates': [-114.2110575...   \n30640  {'type': 'Point', 'coordinates': [-114.0677196...   \n\n       :@computed_region_kxmf_bzkv  :@computed_region_4a3i_ccfj  \\\n2189                         294.0                          3.0   \n16534                         24.0                          2.0   \n28608                         81.0                          4.0   \n27848                        114.0                          1.0   \n30640                        263.0                          3.0   \n\n       :@computed_region_4b54_tmc4  \n2189                           4.0  \n16534                         13.0  \n28608                          9.0  \n27848                          1.0  \n30640                          5.0  ",
      "text/html": "<div>\n<style scoped>\n    .dataframe tbody tr th:only-of-type {\n        vertical-align: middle;\n    }\n\n    .dataframe tbody tr th {\n        vertical-align: top;\n    }\n\n    .dataframe thead th {\n        text-align: right;\n    }\n</style>\n<table border=\"1\" class=\"dataframe\">\n  <thead>\n    <tr style=\"text-align: right;\">\n      <th></th>\n      <th>incident_info</th>\n      <th>description</th>\n      <th>start_dt</th>\n      <th>modified_dt</th>\n      <th>quadrant</th>\n      <th>longitude</th>\n      <th>latitude</th>\n      <th>count</th>\n      <th>id</th>\n      <th>point</th>\n      <th>:@computed_region_kxmf_bzkv</th>\n      <th>:@computed_region_4a3i_ccfj</th>\n      <th>:@computed_region_4b54_tmc4</th>\n    </tr>\n  </thead>\n  <tbody>\n    <tr>\n      <th>2189</th>\n      <td>Cranston Avenue and Deerfoot Trail SE</td>\n      <td>Traffic incident.</td>\n      <td>2023-01-27T15:47:41.000</td>\n      <td>2023-01-27T16:24:15.000</td>\n      <td>SE</td>\n      <td>-113.969176</td>\n      <td>50.879738</td>\n      <td>1</td>\n      <td>2023-01-27T15:47:4150.87973761545267-113.96917...</td>\n      <td>{'type': 'Point', 'coordinates': [-113.9691755...</td>\n      <td>294.0</td>\n      <td>3.0</td>\n      <td>4.0</td>\n    </tr>\n    <tr>\n      <th>16534</th>\n      <td>Eastbound 16 Avenue and Shaganappi Trail NW</td>\n      <td>Traffic incident.</td>\n      <td>2021-02-10T08:28:00.000</td>\n      <td>NaN</td>\n      <td>NaN</td>\n      <td>-114.148430</td>\n      <td>51.066036</td>\n      <td>1</td>\n      <td>2021-02-10T08:28:0751.06603640719783-114.14843...</td>\n      <td>{'type': 'Point', 'coordinates': [-114.1484301...</td>\n      <td>24.0</td>\n      <td>2.0</td>\n      <td>13.0</td>\n    </tr>\n    <tr>\n      <th>28608</th>\n      <td>Northbound Deerfoot Trail approaching McKnight...</td>\n      <td>Two vehicle incident. Blocking right lane.</td>\n      <td>2018-11-08T18:34:00.000</td>\n      <td>2018-11-08T18:43:00.000</td>\n      <td>NE</td>\n      <td>-114.039967</td>\n      <td>51.095199</td>\n      <td>1</td>\n      <td>2018110818340351.0951988549962-114.039966494718</td>\n      <td>{'type': 'Point', 'coordinates': [-114.0399665...</td>\n      <td>81.0</td>\n      <td>4.0</td>\n      <td>9.0</td>\n    </tr>\n    <tr>\n      <th>27848</th>\n      <td>85 Street at Old Banff Coach Road SW</td>\n      <td>Two vehicle incident.</td>\n      <td>2018-12-18T17:04:00.000</td>\n      <td>2018-12-18T18:31:00.000</td>\n      <td>NW</td>\n      <td>-114.211057</td>\n      <td>51.066748</td>\n      <td>1</td>\n      <td>2018121817043551.0667482860603-114.211057469052</td>\n      <td>{'type': 'Point', 'coordinates': [-114.2110575...</td>\n      <td>114.0</td>\n      <td>1.0</td>\n      <td>1.0</td>\n    </tr>\n    <tr>\n      <th>30640</th>\n      <td>Northbound Macleod Trail  and Midlake Boulevar...</td>\n      <td>Single vehicle incident.  blocking the left lane</td>\n      <td>2018-07-19T12:17:00.000</td>\n      <td>2018-07-19T13:15:00.000</td>\n      <td>SE</td>\n      <td>-114.067720</td>\n      <td>50.913953</td>\n      <td>1</td>\n      <td>2018071912170850.913952496706-114.067719606668</td>\n      <td>{'type': 'Point', 'coordinates': [-114.0677196...</td>\n      <td>263.0</td>\n      <td>3.0</td>\n      <td>5.0</td>\n    </tr>\n  </tbody>\n</table>\n</div>"
     },
     "execution_count": 8,
     "metadata": {},
     "output_type": "execute_result"
    }
   ],
   "source": [
    "# Get a random selection of 5 data points to get a better picture of the data as a whole.\n",
    "df.sample(5)"
   ]
  },
  {
   "cell_type": "markdown",
   "id": "2a2ba11d-4555-48f5-9e75-94b7207d7898",
   "metadata": {},
   "source": [
    "More observations can be made with the sample method.\n",
    "- The description field is confirmed to contain simple descriptions about the incident.\n",
    "    - Simple NLP processing and word mapping is a good starting point for processing this column.\n",
    "- NaN appears in both modified_dt and quadrant. \n",
    "    - We can infer the value of NaN in modified_dt by taking the average total time of incidents of the same calibre.\n",
    "    - The quadrant NaN can be inferred from the incident_info column."
   ]
  },
  {
   "cell_type": "markdown",
   "id": "cfbe30cb-9a93-4b51-91b9-edd2afbcef4b",
   "metadata": {},
   "source": [
    "### 4.2 Data Cleaning\n",
    "\n",
    "Using the information from above. The dataframe can be cleaned to reduce its complexity, remove invalid values and simplify analysis.\n",
    "This process is started by removing the count, id and last three columns."
   ]
  },
  {
   "cell_type": "markdown",
   "id": "e39627da",
   "metadata": {},
   "source": [
    "#### 4.21 Remove bloat columns"
   ]
  },
  {
   "cell_type": "code",
   "execution_count": 9,
   "id": "95384f6a-aeac-4f4f-a7e5-ccc17839e413",
   "metadata": {},
   "outputs": [
    {
     "data": {
      "text/plain": "Index(['incident_info', 'description', 'start_dt', 'modified_dt', 'quadrant',\n       'longitude', 'latitude', 'count', 'id', 'point',\n       ':@computed_region_kxmf_bzkv', ':@computed_region_4a3i_ccfj',\n       ':@computed_region_4b54_tmc4'],\n      dtype='object')"
     },
     "execution_count": 9,
     "metadata": {},
     "output_type": "execute_result"
    }
   ],
   "source": [
    "# Get list of current columns to confirm starting configuration.\n",
    "df.columns"
   ]
  },
  {
   "cell_type": "code",
   "execution_count": 10,
   "id": "884e0809-4575-493d-99f2-3d8de9693d81",
   "metadata": {},
   "outputs": [
    {
     "data": {
      "text/plain": "array([1])"
     },
     "execution_count": 10,
     "metadata": {},
     "output_type": "execute_result"
    }
   ],
   "source": [
    "# Confirm values in \"count\" column\n",
    "df[\"count\"].unique()"
   ]
  },
  {
   "cell_type": "markdown",
   "id": "ecdc6597-036d-4443-8dd0-0bec351a5bbb",
   "metadata": {},
   "source": [
    "The unique method returned one value. Thereby confirming the count column serves no purpose for this analysis. It will be removed alongside id, point and the last 3 columns. id does not serve a purpose as it's a concatenation of three other columns. point is a geoJSON type which is beyond my current abilities. Therefore, it will be removed as I focus on the longitude and latitude. The latter three were confirmed to be byproducts from the SODA API and not needed in the analysis."
   ]
  },
  {
   "cell_type": "code",
   "execution_count": 11,
   "id": "a37075e2-0e96-4ffb-9810-b1f793c53167",
   "metadata": {
    "tags": []
   },
   "outputs": [
    {
     "data": {
      "text/plain": "Index(['incident_info', 'description', 'start_dt', 'modified_dt', 'quadrant',\n       'longitude', 'latitude'],\n      dtype='object')"
     },
     "execution_count": 11,
     "metadata": {},
     "output_type": "execute_result"
    }
   ],
   "source": [
    "# Remove \"count\" and last three columns from dataframe.\n",
    "df.drop(\n",
    "    columns=[':@computed_region_kxmf_bzkv', ':@computed_region_4a3i_ccfj', ':@computed_region_4b54_tmc4', 'count', 'id',\n",
    "             'point'], inplace=True)\n",
    "\n",
    "# Confirm columns left in dataframe\n",
    "df.columns"
   ]
  },
  {
   "cell_type": "markdown",
   "id": "a5cf5b87",
   "metadata": {},
   "source": [
    "Remaining columns are correct and unneeded columns are removed. The names of each column will now be adjusted to be more description and uniform"
   ]
  },
  {
   "cell_type": "code",
   "execution_count": 12,
   "outputs": [],
   "source": [
    "# Rename columns to more fitting names and spelling\n",
    "df = df.rename(columns={'incident_info': 'Incident_Info',\n",
    "                        'description': 'Description',\n",
    "                        'start_dt': 'Start_Time',\n",
    "                        'modified_dt': 'End_Time',\n",
    "                        'quadrant': 'Quadrant',\n",
    "                        'longitude': 'Longitude',\n",
    "                        'latitude': 'Latitude', })"
   ],
   "metadata": {
    "collapsed": false
   }
  },
  {
   "cell_type": "markdown",
   "id": "35deb7e3",
   "metadata": {},
   "source": [
    "#### 4.22 Change datatypes of columns\n",
    "\n",
    "The datatype of each column needs to be adjusted to ensure proper analysis can take place. Below we can see that almost all columns are of object type which is not ideal. The columns incident_info, description and quadrant are all better represented as strings, and any column to do with time is better represented as a datetime object."
   ]
  },
  {
   "cell_type": "code",
   "execution_count": 13,
   "id": "e3bb6660",
   "metadata": {},
   "outputs": [
    {
     "data": {
      "text/plain": "Incident_Info     object\nDescription       object\nStart_Time        object\nEnd_Time          object\nQuadrant          object\nLongitude        float64\nLatitude         float64\ndtype: object"
     },
     "execution_count": 13,
     "metadata": {},
     "output_type": "execute_result"
    }
   ],
   "source": [
    "df.dtypes"
   ]
  },
  {
   "cell_type": "code",
   "execution_count": 14,
   "id": "f656815a-52b9-482e-8faf-c8bfac62c3d3",
   "metadata": {},
   "outputs": [
    {
     "data": {
      "text/plain": "Incident_Info            string\nDescription              string\nStart_Time       datetime64[ns]\nEnd_Time         datetime64[ns]\nQuadrant                 string\nLongitude               float64\nLatitude                float64\ndtype: object"
     },
     "execution_count": 14,
     "metadata": {},
     "output_type": "execute_result"
    }
   ],
   "source": [
    "# Adjust all columns to have the proper data type.\n",
    "\n",
    "# Change columns that are better represented as strings to string datatype.\n",
    "df[['Incident_Info', 'Description', 'Quadrant']] = df[['Incident_Info', 'Description', 'Quadrant']].astype('string')\n",
    "# trim any whitespace from string objects to allow for easier string manipulation.\n",
    "df = df.apply(lambda x: x.str.strip() if x.dtype == 'string' else x)\n",
    "\n",
    "# Change columns that are better represented as datetime objects to datetime64 datatype.\n",
    "df[['Start_Time', 'End_Time']] = df[['Start_Time', 'End_Time']].apply(pd.to_datetime)\n",
    "\n",
    "df.dtypes"
   ]
  },
  {
   "cell_type": "markdown",
   "id": "c506ca83",
   "metadata": {},
   "source": [
    "All columns are now represented by are more accurate datatype."
   ]
  },
  {
   "cell_type": "markdown",
   "source": [
    "### 4.23 Remove Duplicated Rows\n",
    "\n",
    "Before removing any null values, let's remove any potential duplicated values. We can see below that there are only 5 duplicates. This is a low quantity. Therefore, we don't need to confirm too much and they can just be removed. We also need to be sure to reset the index when dropping any rows to ensure the data stays uniform."
   ],
   "metadata": {
    "collapsed": false
   }
  },
  {
   "cell_type": "code",
   "execution_count": 15,
   "outputs": [
    {
     "data": {
      "text/plain": "                                           Incident_Info  \\\n25000     Eastbound Memorial Drive and Deerfoot Trail NE   \n39724  Westbound Stoney approaching Shaganappi Trail NW.   \n39726                       Sunridge Way at 36 Street NE   \n39730                           20 Avenue at 8 Street NW   \n39732  Westbound McKnight Boulevard approaching John ...   \n\n                                             Description          Start_Time  \\\n25000  Multi-vehicle incident. Blocking the right lan... 2019-09-26 12:10:00   \n39724                            Multi vehicle incident. 2016-12-09 17:16:00   \n39726                There is an incident involving LRT. 2016-12-09 17:14:00   \n39730                                2 vehicle incident. 2016-12-09 16:58:00   \n39732                                2 vehicle incident. 2016-12-09 16:46:00   \n\n                 End_Time Quadrant   Longitude   Latitude  \n25000                 NaT     <NA> -114.021886  51.047439  \n39724 2016-12-09 17:16:00       NW -114.147933  51.152736  \n39726 2016-12-09 17:16:00       NE -113.984934  51.067299  \n39730 2016-12-09 17:16:00       NW -114.081378  51.070539  \n39732 2016-12-09 17:16:00       NW -114.083318  51.097316  ",
      "text/html": "<div>\n<style scoped>\n    .dataframe tbody tr th:only-of-type {\n        vertical-align: middle;\n    }\n\n    .dataframe tbody tr th {\n        vertical-align: top;\n    }\n\n    .dataframe thead th {\n        text-align: right;\n    }\n</style>\n<table border=\"1\" class=\"dataframe\">\n  <thead>\n    <tr style=\"text-align: right;\">\n      <th></th>\n      <th>Incident_Info</th>\n      <th>Description</th>\n      <th>Start_Time</th>\n      <th>End_Time</th>\n      <th>Quadrant</th>\n      <th>Longitude</th>\n      <th>Latitude</th>\n    </tr>\n  </thead>\n  <tbody>\n    <tr>\n      <th>25000</th>\n      <td>Eastbound Memorial Drive and Deerfoot Trail NE</td>\n      <td>Multi-vehicle incident. Blocking the right lan...</td>\n      <td>2019-09-26 12:10:00</td>\n      <td>NaT</td>\n      <td>&lt;NA&gt;</td>\n      <td>-114.021886</td>\n      <td>51.047439</td>\n    </tr>\n    <tr>\n      <th>39724</th>\n      <td>Westbound Stoney approaching Shaganappi Trail NW.</td>\n      <td>Multi vehicle incident.</td>\n      <td>2016-12-09 17:16:00</td>\n      <td>2016-12-09 17:16:00</td>\n      <td>NW</td>\n      <td>-114.147933</td>\n      <td>51.152736</td>\n    </tr>\n    <tr>\n      <th>39726</th>\n      <td>Sunridge Way at 36 Street NE</td>\n      <td>There is an incident involving LRT.</td>\n      <td>2016-12-09 17:14:00</td>\n      <td>2016-12-09 17:16:00</td>\n      <td>NE</td>\n      <td>-113.984934</td>\n      <td>51.067299</td>\n    </tr>\n    <tr>\n      <th>39730</th>\n      <td>20 Avenue at 8 Street NW</td>\n      <td>2 vehicle incident.</td>\n      <td>2016-12-09 16:58:00</td>\n      <td>2016-12-09 17:16:00</td>\n      <td>NW</td>\n      <td>-114.081378</td>\n      <td>51.070539</td>\n    </tr>\n    <tr>\n      <th>39732</th>\n      <td>Westbound McKnight Boulevard approaching John ...</td>\n      <td>2 vehicle incident.</td>\n      <td>2016-12-09 16:46:00</td>\n      <td>2016-12-09 17:16:00</td>\n      <td>NW</td>\n      <td>-114.083318</td>\n      <td>51.097316</td>\n    </tr>\n  </tbody>\n</table>\n</div>"
     },
     "execution_count": 15,
     "metadata": {},
     "output_type": "execute_result"
    }
   ],
   "source": [
    "# Confirm duplicates exist in dataframe.\n",
    "df.loc[df.duplicated()]"
   ],
   "metadata": {
    "collapsed": false
   }
  },
  {
   "cell_type": "code",
   "execution_count": 16,
   "outputs": [],
   "source": [
    "# Remove duplicates and reset index to ensure dataframe is healthy.\n",
    "df = df.loc[~df.duplicated()].reset_index(drop=True).copy()"
   ],
   "metadata": {
    "collapsed": false
   }
  },
  {
   "cell_type": "code",
   "execution_count": 17,
   "outputs": [
    {
     "data": {
      "text/plain": "Empty DataFrame\nColumns: [Incident_Info, Description, Start_Time, End_Time, Quadrant, Longitude, Latitude]\nIndex: []",
      "text/html": "<div>\n<style scoped>\n    .dataframe tbody tr th:only-of-type {\n        vertical-align: middle;\n    }\n\n    .dataframe tbody tr th {\n        vertical-align: top;\n    }\n\n    .dataframe thead th {\n        text-align: right;\n    }\n</style>\n<table border=\"1\" class=\"dataframe\">\n  <thead>\n    <tr style=\"text-align: right;\">\n      <th></th>\n      <th>Incident_Info</th>\n      <th>Description</th>\n      <th>Start_Time</th>\n      <th>End_Time</th>\n      <th>Quadrant</th>\n      <th>Longitude</th>\n      <th>Latitude</th>\n    </tr>\n  </thead>\n  <tbody>\n  </tbody>\n</table>\n</div>"
     },
     "execution_count": 17,
     "metadata": {},
     "output_type": "execute_result"
    }
   ],
   "source": [
    "# Confirm duplicates were dropped.\n",
    "df.loc[df.duplicated()]"
   ],
   "metadata": {
    "collapsed": false
   }
  },
  {
   "cell_type": "markdown",
   "id": "6212f36b",
   "metadata": {},
   "source": [
    "#### 4.24 Remove null values\n",
    "\n",
    "Any null values now need to be adjusted to ensure analysis is accurate. We can see below that the dataset is fairly healthy. However, there are problem areas in 3 columns. description, modified_dt and quadrant. Description we can replace null values with Traffic incident. as that is the most common value in description. The former two will need more complex processing to ensure our analysis is accurate."
   ]
  },
  {
   "cell_type": "code",
   "execution_count": 18,
   "id": "a04d5410-ca79-45e8-8556-ecbecdb3846e",
   "metadata": {},
   "outputs": [
    {
     "data": {
      "text/plain": "Incident_Info        0\nDescription          2\nStart_Time           0\nEnd_Time         14056\nQuadrant         14058\nLongitude            0\nLatitude             0\ndtype: int64"
     },
     "execution_count": 18,
     "metadata": {},
     "output_type": "execute_result"
    }
   ],
   "source": [
    "df.isnull().sum()"
   ]
  },
  {
   "cell_type": "code",
   "execution_count": 19,
   "id": "74cd57f3",
   "metadata": {},
   "outputs": [
    {
     "data": {
      "text/plain": "<NA>    0.353136\nSE      0.205808\nNE      0.165189\nNW      0.142933\nSW      0.132935\nName: Quadrant, dtype: Float64"
     },
     "execution_count": 19,
     "metadata": {},
     "output_type": "execute_result"
    }
   ],
   "source": [
    "# Fill any null values in description with \"Traffic incident.\"\n",
    "df['Description'].fillna('Traffic incident.', inplace=True)\n",
    "\n",
    "# Confirm percent of valid quadrant values before adjusting.\n",
    "df['Quadrant'].value_counts(normalize=True, dropna=False)"
   ]
  },
  {
   "cell_type": "markdown",
   "id": "269cfc6e-4945-4933-a3aa-faf0058cfb65",
   "metadata": {},
   "source": [
    "The current values in the quadrant column are only valid in ~65% of the datapoints. This is too low to ignore and will need to be adjusted. Knowing that the incident info column has the quadrant at the end of the string, we can use this to adjust the NaN values."
   ]
  },
  {
   "cell_type": "code",
   "execution_count": 20,
   "id": "9f2c23de-551d-4275-8475-72a0fe60f472",
   "metadata": {},
   "outputs": [
    {
     "data": {
      "text/plain": "SE    0.323218\nNE     0.26381\nSW    0.203472\nNW    0.201236\n N     0.00309\n S    0.002462\n E    0.001005\nge    0.000628\n W    0.000151\nad    0.000126\nry    0.000126\nvd    0.000075\nrd    0.000075\nea    0.000075\nst     0.00005\nil     0.00005\nt;     0.00005\nth     0.00005\nnW    0.000025\nnE    0.000025\n 2    0.000025\ner    0.000025\nve    0.000025\nre    0.000025\nmp    0.000025\nls    0.000025\nue    0.000025\net    0.000025\nName: Quadrant, dtype: Float64"
     },
     "execution_count": 20,
     "metadata": {},
     "output_type": "execute_result"
    }
   ],
   "source": [
    "# Remove NaN values from quadrant\n",
    "\n",
    "# Replace NaN quadrant values with last two characters of incident_info. As this will populate more of the quadrant data.\n",
    "df['Quadrant'].fillna(df['Incident_Info'].str[-2:], inplace=True)\n",
    "\n",
    "# Confirm quadrant data is now more accurate.\n",
    "df['Quadrant'].value_counts(normalize=True, dropna=False)"
   ]
  },
  {
   "cell_type": "markdown",
   "id": "bbacfd42-b215-400f-b869-272454cbb5a0",
   "metadata": {},
   "source": [
    "The 4 quadrants now account for 98% of the data as opposed to the ~60% we saw with all the null values at the start. The remaining 2% erroneous data can be replaced with a random selection from the quadrants list as it will allow for easier processing, won't skew the data significantly and will validate all values in quadrant."
   ]
  },
  {
   "cell_type": "code",
   "execution_count": 21,
   "id": "8349f845-88ea-4769-ac03-a309d9853bf7",
   "metadata": {},
   "outputs": [
    {
     "data": {
      "text/plain": "SE    0.325454\nNE    0.265643\nSW    0.205456\nNW    0.203446\nName: Quadrant, dtype: float64"
     },
     "execution_count": 21,
     "metadata": {},
     "output_type": "execute_result"
    }
   ],
   "source": [
    "quadrants = ['SE', 'NE', 'SW', 'NW']\n",
    "\n",
    "# If The current value in quadrant is not in the above list, replace it with a random value from said list.\n",
    "df['Quadrant'] = df['Quadrant'].apply(lambda x: x if x in quadrants else random.choice(quadrants))\n",
    "\n",
    "# Confirm values in quadrant are now correct and not skewed from original values.\n",
    "df['Quadrant'].value_counts(normalize=True, dropna=False)"
   ]
  },
  {
   "cell_type": "markdown",
   "id": "f91b5193-1e07-427a-b54a-1c25f8d2b43d",
   "metadata": {},
   "source": [
    "Erroneous values now need to be removed from modified_dt due to the large amount of missing data. The best option for this is to replace the NaN value with the average time it takes to clean up an accident added on to the start_dt. To get the average time, a new column called total_time will be created to hold the total time per accident. Which is the modified_dt minus start_dt."
   ]
  },
  {
   "cell_type": "code",
   "execution_count": 22,
   "id": "c26fdcdc-d45a-4962-a30d-35f9e9031f63",
   "metadata": {},
   "outputs": [],
   "source": [
    "# Remove NaN values from modified_dt\n",
    "\n",
    "\"\"\"\n",
    "To create total time, modified_dt first needs to have all it's NaN values changed to a valid entry. This can be changed to the equivalent start_dt at the start.\n",
    "Which will create a total_time of 0 minutes.\n",
    "\"\"\"\n",
    "\n",
    "df['End_Time'].fillna(df['Start_Time'], inplace=True)\n",
    "\n",
    "# Create total_time column which is modified_dt - start_dt.\n",
    "total_time = (df['End_Time'] - df['Start_Time'])\n",
    "\n",
    "# Insert total_time into dataframe after modified_dt.\n",
    "df.insert(loc=4,\n",
    "          column='Total_Time',\n",
    "          value=total_time)"
   ]
  },
  {
   "cell_type": "code",
   "execution_count": 23,
   "outputs": [
    {
     "data": {
      "text/plain": "<AxesSubplot:title={'center':'Total Time'}>"
     },
     "execution_count": 23,
     "metadata": {},
     "output_type": "execute_result"
    },
    {
     "data": {
      "text/plain": "<Figure size 640x480 with 1 Axes>",
      "image/png": "[encoded data removed]"
     },
     "metadata": {},
     "output_type": "display_data"
    }
   ],
   "source": [
    "# Plot the current total_time column to get an idea of the missing data.\n",
    "df['Total_Time'].plot(title='Total Time')"
   ],
   "metadata": {
    "collapsed": false
   }
  },
  {
   "cell_type": "code",
   "execution_count": 24,
   "outputs": [
    {
     "data": {
      "text/plain": "Timedelta('0 days 00:20:06.339496093')"
     },
     "execution_count": 24,
     "metadata": {},
     "output_type": "execute_result"
    }
   ],
   "source": [
    "df['Total_Time'].mean()"
   ],
   "metadata": {
    "collapsed": false
   }
  },
  {
   "cell_type": "markdown",
   "source": [
    "The above plot shows a large amount of missing/zero values in the middle of the dataset. The mean of the column also shows us that the average clearing time takes 20 minutes which, seems quick. The below replaced these values with the average time an accident with the same descriptor takes to be reported as cleaned up."
   ],
   "metadata": {
    "collapsed": false
   }
  },
  {
   "cell_type": "code",
   "execution_count": 25,
   "outputs": [
    {
     "name": "stdout",
     "output_type": "stream",
     "text": [
      "Number of rows that will remain at 0: 2093\n"
     ]
    }
   ],
   "source": [
    "# Convert total time to integer representing minutes to allow for easier boolean comparisons to find time with 0.\n",
    "df['Total_Time'] = df['Total_Time'] / pd.Timedelta(minutes=1)\n",
    "\n",
    "# Produce a new dataframe with the mean of total time with incidents of the same value.\n",
    "mean_values_df = df[['Description', 'Total_Time']]\n",
    "# Remove any values that contain zero to get a more accurate average. This can result in cases where a unique crash that is misreported is now missing from the average dataframe. This will be handled when we iterate through the original df.\n",
    "mean_values_df = mean_values_df[mean_values_df['Total_Time'] != 0.0]\n",
    "# Group this dataframe by the mean of each descriptor\n",
    "mean_values_df = mean_values_df.groupby('Description').mean(numeric_only=False)\n",
    "\n",
    "# Loop through df and change any values currently at 0 to the average of the descriptor. If an error occurs catch it and increment the count variable. This will then be printed to let the user know how many rows don't have an average to replace with and thus will remain at 0.\n",
    "count = 0\n",
    "for index, row in df.iterrows():\n",
    "    if row[4] == 0.0:\n",
    "        try:\n",
    "            df.at[index, 'Total_Time'] = mean_values_df.loc[row[1]]\n",
    "        except:\n",
    "            count = count + 1\n",
    "\n",
    "print(f'Number of rows that will remain at 0: {count}')\n",
    "# Convert the total_time column back to time delta.\n",
    "df['Total_Time'] = pd.to_timedelta(df['Total_Time'], unit='min')"
   ],
   "metadata": {
    "collapsed": false
   }
  },
  {
   "cell_type": "code",
   "execution_count": 26,
   "outputs": [
    {
     "data": {
      "text/plain": "<AxesSubplot:title={'center':'Total Time'}>"
     },
     "execution_count": 26,
     "metadata": {},
     "output_type": "execute_result"
    },
    {
     "data": {
      "text/plain": "<Figure size 640x480 with 1 Axes>",
      "image/png": "[encoded data removed]"
     },
     "metadata": {},
     "output_type": "display_data"
    }
   ],
   "source": [
    "df['Total_Time'].plot(title='Total Time')"
   ],
   "metadata": {
    "collapsed": false
   }
  },
  {
   "cell_type": "code",
   "execution_count": 27,
   "outputs": [
    {
     "data": {
      "text/plain": "Timedelta('0 days 00:30:01.155544269')"
     },
     "execution_count": 27,
     "metadata": {},
     "output_type": "execute_result"
    }
   ],
   "source": [
    "df['Total_Time'].mean()"
   ],
   "metadata": {
    "collapsed": false
   }
  },
  {
   "cell_type": "markdown",
   "source": [
    "The new plot now shows that the formerly null/zeroed out data has valid entries. The new mean is thirty minutes. Upon looking for average traffic incident clean up times, there were no solid sources to pull from. Some articles such as [this](https://mynorthwest.com/1216262/washington-incident-response-2018/) one and [this](https://www.sciencedirect.com/science/article/pii/S2046043018300522) indicate traffic incidents can take anywhere from thirteen minutes to three hours to clear. For the purposes of this analysis the data seems to point toward 30 minutes average cleanup time in Calgary accidents. Of course this data is only as good as the reporting method, and as we originally saw a lot of the data was missing at the start. Any insights gained from this portion of the data should be taken with a grain of salt as we don't know the accuracy of the reporting timeline, we also don't know if the method of replacing a large portion of the data with the current average is necessarily accurate. However, it should be able to paint a blurry picture on the average clean-up time."
   ],
   "metadata": {
    "collapsed": false
   }
  },
  {
   "cell_type": "markdown",
   "source": [
    "Finally, we need to adjust any modified_dt columns that are equivalent to start_dt with the new total_time value."
   ],
   "metadata": {
    "collapsed": false
   }
  },
  {
   "cell_type": "code",
   "execution_count": 28,
   "outputs": [
    {
     "data": {
      "text/plain": "Incident_Info    0\nDescription      0\nStart_Time       0\nEnd_Time         0\nTotal_Time       0\nQuadrant         0\nLongitude        0\nLatitude         0\ndtype: int64"
     },
     "execution_count": 28,
     "metadata": {},
     "output_type": "execute_result"
    }
   ],
   "source": [
    "# Iterate through df to replace modified_dt with a more accurate time in relation to start_dt and total_time if modified_dt = start_dt\n",
    "for index, row in df.iterrows():\n",
    "    if row[3] == row[2]:\n",
    "        df.at[index, 'End_Time'] = row[2] + row[4]\n",
    "\n",
    "# Confirm all NA values have been removed/updated.\n",
    "df.isnull().sum()"
   ],
   "metadata": {
    "collapsed": false
   }
  },
  {
   "cell_type": "markdown",
   "source": [
    "#### 4.25 Add Year, Month, Day, Hour Columns\n",
    "\n",
    "To answer our research columns it would be wise to split the Start_Time column into its respective year, month, day and hour. Which will allow for easier analysis. We will not worry about including the end time column here as start time is detailed enough to answer our research questions."
   ],
   "metadata": {
    "collapsed": false
   }
  },
  {
   "cell_type": "code",
   "execution_count": 29,
   "outputs": [],
   "source": [
    "# Create year, month and day columns from Start_Time\n",
    "# Below line taken from https://stackoverflow.com/questions/55776571/how-to-split-a-date-column-into-separate-day-month-year-column-in-pandas\n",
    "df[['Year', 'Month', 'Day']] = df['Start_Time'].apply(lambda x: x.timetuple()[:3]).tolist()\n",
    "\n",
    "df['Day'] = df['Start_Time'].dt.dayofweek + 1\n",
    "# Get hour of crash and add one to remove 0 indexing.\n",
    "df['Hour'] = df['Start_Time'].dt.hour + 1"
   ],
   "metadata": {
    "collapsed": false
   }
  },
  {
   "cell_type": "code",
   "execution_count": 30,
   "outputs": [
    {
     "data": {
      "text/plain": "                            Incident_Info                        Description  \\\n21508  Elbow Drive at Lansdowne Avenue SW  Traffic signals work in progress.   \n\n               Start_Time                      End_Time  \\\n21508 2020-03-13 09:21:00 2020-03-13 10:56:16.857142859   \n\n                     Total_Time Quadrant   Longitude   Latitude  Year  Month  \\\n21508 0 days 01:35:16.857142859       SW -114.078652  51.016964  2020      3   \n\n       Day  Hour  \n21508    5    10  ",
      "text/html": "<div>\n<style scoped>\n    .dataframe tbody tr th:only-of-type {\n        vertical-align: middle;\n    }\n\n    .dataframe tbody tr th {\n        vertical-align: top;\n    }\n\n    .dataframe thead th {\n        text-align: right;\n    }\n</style>\n<table border=\"1\" class=\"dataframe\">\n  <thead>\n    <tr style=\"text-align: right;\">\n      <th></th>\n      <th>Incident_Info</th>\n      <th>Description</th>\n      <th>Start_Time</th>\n      <th>End_Time</th>\n      <th>Total_Time</th>\n      <th>Quadrant</th>\n      <th>Longitude</th>\n      <th>Latitude</th>\n      <th>Year</th>\n      <th>Month</th>\n      <th>Day</th>\n      <th>Hour</th>\n    </tr>\n  </thead>\n  <tbody>\n    <tr>\n      <th>21508</th>\n      <td>Elbow Drive at Lansdowne Avenue SW</td>\n      <td>Traffic signals work in progress.</td>\n      <td>2020-03-13 09:21:00</td>\n      <td>2020-03-13 10:56:16.857142859</td>\n      <td>0 days 01:35:16.857142859</td>\n      <td>SW</td>\n      <td>-114.078652</td>\n      <td>51.016964</td>\n      <td>2020</td>\n      <td>3</td>\n      <td>5</td>\n      <td>10</td>\n    </tr>\n  </tbody>\n</table>\n</div>"
     },
     "execution_count": 30,
     "metadata": {},
     "output_type": "execute_result"
    }
   ],
   "source": [
    "# Ensure new columns have been created successfully.\n",
    "df.sample(1)"
   ],
   "metadata": {
    "collapsed": false
   }
  },
  {
   "cell_type": "markdown",
   "source": [
    "### 4.3 Data Cleaning Summary\n",
    "\n",
    "The dataframe has now been adjusted to properly house the traffic incident data. Irrelevant columns have been removed, proper datatypes have been assigned and NA values have been adjusted through replacement using the mean value of similar data. We can now move on to properly exploring the data."
   ],
   "metadata": {
    "collapsed": false
   }
  },
  {
   "cell_type": "markdown",
   "source": [
    "## 5. Exploratory Data Analysis"
   ],
   "metadata": {
    "collapsed": false
   }
  },
  {
   "cell_type": "markdown",
   "source": [
    "### 5.1 Analysis\n",
    "\n",
    "Now that the data is properly stored in our dataframe, we can begin to gain insights into the data that will allow us to answer our original research questions."
   ],
   "metadata": {
    "collapsed": false
   }
  },
  {
   "cell_type": "markdown",
   "source": [
    "#### 5.11 Basic Statistics\n",
    "\n",
    "Let's see if any insights can first be gained by looking at general statistics for the dataset."
   ],
   "metadata": {
    "collapsed": false
   }
  },
  {
   "cell_type": "code",
   "execution_count": 31,
   "outputs": [
    {
     "data": {
      "text/plain": "                      Total_Time     Longitude      Latitude         Year  \\\ncount                      39809  39809.000000  39809.000000  39809.00000   \nmean   0 days 00:30:01.155544269   -114.049202     51.041698   2019.88377   \nstd    0 days 00:42:11.742260704      0.070357      0.067216      1.90374   \nmin              0 days 00:00:00   -114.309770     50.848744   2016.00000   \n25%              0 days 00:03:00   -114.094706     50.996389   2018.00000   \n50%    0 days 00:21:03.342981960   -114.047843     51.047628   2020.00000   \n75%    0 days 00:38:58.311842700   -114.000264     51.086636   2022.00000   \nmax              1 days 17:08:00   -113.871362     51.195648   2023.00000   \n\n              Month           Day          Hour  \ncount  39809.000000  39809.000000  39809.000000  \nmean       6.685398      3.751714     14.465146  \nstd        3.647239      1.858353      5.240666  \nmin        1.000000      1.000000      1.000000  \n25%        3.000000      2.000000     10.000000  \n50%        7.000000      4.000000     15.000000  \n75%       10.000000      5.000000     18.000000  \nmax       12.000000      7.000000     24.000000  ",
      "text/html": "<div>\n<style scoped>\n    .dataframe tbody tr th:only-of-type {\n        vertical-align: middle;\n    }\n\n    .dataframe tbody tr th {\n        vertical-align: top;\n    }\n\n    .dataframe thead th {\n        text-align: right;\n    }\n</style>\n<table border=\"1\" class=\"dataframe\">\n  <thead>\n    <tr style=\"text-align: right;\">\n      <th></th>\n      <th>Total_Time</th>\n      <th>Longitude</th>\n      <th>Latitude</th>\n      <th>Year</th>\n      <th>Month</th>\n      <th>Day</th>\n      <th>Hour</th>\n    </tr>\n  </thead>\n  <tbody>\n    <tr>\n      <th>count</th>\n      <td>39809</td>\n      <td>39809.000000</td>\n      <td>39809.000000</td>\n      <td>39809.00000</td>\n      <td>39809.000000</td>\n      <td>39809.000000</td>\n      <td>39809.000000</td>\n    </tr>\n    <tr>\n      <th>mean</th>\n      <td>0 days 00:30:01.155544269</td>\n      <td>-114.049202</td>\n      <td>51.041698</td>\n      <td>2019.88377</td>\n      <td>6.685398</td>\n      <td>3.751714</td>\n      <td>14.465146</td>\n    </tr>\n    <tr>\n      <th>std</th>\n      <td>0 days 00:42:11.742260704</td>\n      <td>0.070357</td>\n      <td>0.067216</td>\n      <td>1.90374</td>\n      <td>3.647239</td>\n      <td>1.858353</td>\n      <td>5.240666</td>\n    </tr>\n    <tr>\n      <th>min</th>\n      <td>0 days 00:00:00</td>\n      <td>-114.309770</td>\n      <td>50.848744</td>\n      <td>2016.00000</td>\n      <td>1.000000</td>\n      <td>1.000000</td>\n      <td>1.000000</td>\n    </tr>\n    <tr>\n      <th>25%</th>\n      <td>0 days 00:03:00</td>\n      <td>-114.094706</td>\n      <td>50.996389</td>\n      <td>2018.00000</td>\n      <td>3.000000</td>\n      <td>2.000000</td>\n      <td>10.000000</td>\n    </tr>\n    <tr>\n      <th>50%</th>\n      <td>0 days 00:21:03.342981960</td>\n      <td>-114.047843</td>\n      <td>51.047628</td>\n      <td>2020.00000</td>\n      <td>7.000000</td>\n      <td>4.000000</td>\n      <td>15.000000</td>\n    </tr>\n    <tr>\n      <th>75%</th>\n      <td>0 days 00:38:58.311842700</td>\n      <td>-114.000264</td>\n      <td>51.086636</td>\n      <td>2022.00000</td>\n      <td>10.000000</td>\n      <td>5.000000</td>\n      <td>18.000000</td>\n    </tr>\n    <tr>\n      <th>max</th>\n      <td>1 days 17:08:00</td>\n      <td>-113.871362</td>\n      <td>51.195648</td>\n      <td>2023.00000</td>\n      <td>12.000000</td>\n      <td>7.000000</td>\n      <td>24.000000</td>\n    </tr>\n  </tbody>\n</table>\n</div>"
     },
     "execution_count": 31,
     "metadata": {},
     "output_type": "execute_result"
    }
   ],
   "source": [
    "df.describe()"
   ],
   "metadata": {
    "collapsed": false
   }
  },
  {
   "cell_type": "markdown",
   "source": [
    "Nothing sticks out too much here. The mean values are all around the half point of their respective time. The year column tells us that there are more values 2019 and before which would make sense as 2020 most likely had a historic drop. There also seems to be an accident that took over a day to clean up? Most likely a reporting error, but outlier data like this needs to be explored to see how it skews the analysis."
   ],
   "metadata": {
    "collapsed": false
   }
  },
  {
   "cell_type": "markdown",
   "source": [
    "#### 5.11 Traffic Incident Heat Map"
   ],
   "metadata": {
    "collapsed": false
   }
  },
  {
   "cell_type": "code",
   "execution_count": null,
   "outputs": [],
   "source": [
    "# Create folium map object to plot heat map.\n",
    "calgary_coordinates = [51.049999, -114.066666]\n",
    "map_width = 1000\n",
    "map_height = 500\n",
    "\n",
    "folium_figure = folium.Figure(width=map_width, height=map_height)\n",
    "folium_map = folium.Map(location=calgary_coordinates, width=map_width, height=map_height).add_to(folium_figure)\n",
    "\n",
    "# Create list that stores all the coordinates of the traffic incidents in the dataset.\n",
    "incident_coordinates_list = df[['Latitude', 'Longitude']].values.tolist()\n",
    "\n",
    "# Add the head map layer to the map, using the list of coordinates.\n",
    "HeatMap(incident_coordinates_list, radius=15).add_to(folium_map)\n",
    "\n",
    "# Draw folium map.\n",
    "folium_map"
   ],
   "metadata": {
    "collapsed": false,
    "pycharm": {
     "is_executing": true
    }
   }
  },
  {
   "cell_type": "markdown",
   "source": [
    "Observing the map at the start is a lot to take in. However, once you zoom in to the city, clear patterns start to emerge in the heat map. Some of which are listed below.\n",
    "\n",
    "- Main roadways such as Stoney trail, Deerfoot Trail and Macleod Trail seem to have accidents throughout the length of the roads.\n",
    "- Major intersections have a high number of reported incidents and seem to be where the majority of concentration is.\n",
    "- Downtown roads also have a high number of incidents\n",
    "- Stoney Trail and Deerfoot are both highways with speed limits of 100km/hr. Deerfoot has a higher intensity on the heat map. While Stony appears to have higher incidents only at off ramps and merges. The map seems to indicate that Stoney is the safer option when choosing a longer road trip. Unfortunately, or data set does not have much information about the severity of the crashes. However, comparing the incidents between Stoney and Deerfoot could be a good future project.\n",
    "\n",
    "Overall it seems that the original hypothesis was true. This heat map indicates commuters are at a higher risk of accident on major roadways and in downtown streets with high density. Intersections also have a high concentration of incidents. These are all ideas that are relatively known to an avid commuter. Are there further insights to be gained by changing the timeframe that we look at the data from?"
   ],
   "metadata": {
    "collapsed": false
   }
  },
  {
   "cell_type": "markdown",
   "source": [
    "#### 5.12 Change in Traffic Incidents over Time\n",
    "\n",
    "Now that a broad picture has been obtained. Let's narrow in on the yearly, monthly and daily statistics to see how traffic incidents change over time. We first start by creating a function that allows for easy queries of the similar time coolumns."
   ],
   "metadata": {
    "collapsed": false
   }
  },
  {
   "cell_type": "code",
   "execution_count": null,
   "outputs": [],
   "source": [
    "def query_time(dataframe, time):\n",
    "    \"\"\"\n",
    "    Query time returns the value counts of all time values in a given row representing a unit of time. i.e. hour, year etc.\n",
    "\n",
    "    :param dataframe: Dataframe to analyse\n",
    "    :param time: The name of the column with a time value in int64 format.\n",
    "    :return: The counts of all unique time values in the given dataframe column.\n",
    "    \"\"\"\n",
    "\n",
    "    # Get time counts from dataframe column.\n",
    "    counts = dataframe[time].value_counts() \\\n",
    "        .sort_index()\n",
    "\n",
    "    # Draw a bar chart to the notebook representing the time counts.\n",
    "    counts.plot(kind='bar',\n",
    "                use_index=True,\n",
    "                ylabel=\"Number of Traffic Incidents\",\n",
    "                xlabel=time,\n",
    "                title=f\"Traffic Incidents by {time}\")\n",
    "\n",
    "# Return time counts for further processing.\n",
    "    return counts"
   ],
   "metadata": {
    "collapsed": false,
    "pycharm": {
     "is_executing": true
    }
   }
  },
  {
   "cell_type": "markdown",
   "source": [
    "##### 5.121 Yearly Change"
   ],
   "metadata": {
    "collapsed": false
   }
  },
  {
   "cell_type": "code",
   "execution_count": null,
   "outputs": [],
   "source": [
    "# Query year column to get visual on the total incidents per year.\n",
    "yearly_counts = query_time(df, 'Year')"
   ],
   "metadata": {
    "collapsed": false,
    "pycharm": {
     "is_executing": true
    }
   }
  },
  {
   "cell_type": "markdown",
   "source": [
    "We can now see that the total yearly accidents don't deviate all that much. Interestingly, 2019 is the year with the lowest count. However, that is most likely de to the bug we touched on earlier where summer months were not reported. In order to get an accurate average we can omit 2016, 2019 and 2023 from a mean calculation to see the average incidents per year."
   ],
   "metadata": {
    "collapsed": false
   }
  },
  {
   "cell_type": "code",
   "execution_count": null,
   "outputs": [],
   "source": [
    "yearly_counts[[2017, 2018, 2020, 2021, 2022]].mean()"
   ],
   "metadata": {
    "collapsed": false,
    "pycharm": {
     "is_executing": true
    }
   }
  },
  {
   "cell_type": "markdown",
   "source": [
    "We can see that over the past 7 years an average of 6437 traffic incidents have been reported through the Calgary ATIS. WIth surprisingly little fluctuation especially in 2020 when the Canadian covid lockdown was in effect. Anecdotally the roads felt less busy and safe. However, it appears only a ~10 reduction in reported traffic incidents was the consequence. How does the number change on a monthly and daily basis?"
   ],
   "metadata": {
    "collapsed": false
   }
  },
  {
   "cell_type": "markdown",
   "source": [
    "##### 5.122 Monthly Change"
   ],
   "metadata": {
    "collapsed": false
   }
  },
  {
   "cell_type": "code",
   "execution_count": null,
   "outputs": [],
   "source": [
    "# Query Month column to get visual on the total incidents per month.\n",
    "monthly_counts = query_time(df, 'Month')"
   ],
   "metadata": {
    "collapsed": false,
    "pycharm": {
     "is_executing": true
    }
   }
  },
  {
   "cell_type": "markdown",
   "source": [
    "The monthly graph shows a clear correlation between seasons of the year and incidents. We can see that the winter months of 10-2 have a higher than average incident count. While the summer months of 5-8 have a lower than average incident count. Once again affirming the hypothesis that commuters are more likely to be involved or affect by a traffic incident when conditions are poor."
   ],
   "metadata": {
    "collapsed": false
   }
  },
  {
   "cell_type": "code",
   "execution_count": null,
   "outputs": [],
   "source": [
    "monthly_counts.mean()"
   ],
   "metadata": {
    "collapsed": false,
    "pycharm": {
     "is_executing": true
    }
   }
  },
  {
   "cell_type": "markdown",
   "source": [
    "##### 5.123 Daily Change"
   ],
   "metadata": {
    "collapsed": false
   }
  },
  {
   "cell_type": "code",
   "execution_count": null,
   "outputs": [],
   "source": [
    "# Query year column to get visual on the total incidents per year.\n",
    "daily_counts = query_time(df, 'Day')"
   ],
   "metadata": {
    "collapsed": false,
    "pycharm": {
     "is_executing": true
    }
   }
  },
  {
   "cell_type": "markdown",
   "source": [
    "Unsurprisingly, the weekdays have the most incidents per day. With Friday being the Day with the highest number of incidents. Surprisingly, Monday has the third-lowest number of total incidents, where I thought it would be the highest. As a commuter in Calgary I always assumed I would have less chance of an incident affecting my commute on Friday as opposed to Monday. This data could potentially be cross-referenced with traffic volume counts by day to gain a deeper understanding of the driver habits of Calgary commuters."
   ],
   "metadata": {
    "collapsed": false
   }
  },
  {
   "cell_type": "code",
   "execution_count": null,
   "outputs": [],
   "source": [
    "daily_counts.mean()"
   ],
   "metadata": {
    "collapsed": false,
    "pycharm": {
     "is_executing": true
    }
   }
  },
  {
   "cell_type": "markdown",
   "source": [
    "##### 5.123 Hourly Change"
   ],
   "metadata": {
    "collapsed": false
   }
  },
  {
   "cell_type": "code",
   "execution_count": null,
   "outputs": [],
   "source": [
    "# Query Hour column to get visual on the total incidents per hour.\n",
    "daily_counts = query_time(df, 'Hour')"
   ],
   "metadata": {
    "collapsed": false,
    "pycharm": {
     "is_executing": true
    }
   }
  },
  {
   "cell_type": "markdown",
   "source": [
    "The graph of the hourly incidents paints a much more stark picture. Rush hours between 8-10 and 16-18 are the highest at their local points. Confirming the hypothesis that rush hours are the most dangerous times to be on the road. Generally time during which normal business operations and peoples live take place the incident count rises. This could be further explored by comparing the incident count by time with incident types. Our incident description column is not robust enough to see if more incidents where the driver is impaired happen in the early hours of the morning. Whereas does the severity of the incident change during rush hour vs not. Overall this column confirms the hypothesis and highlights the fact that Calgary commuters should be more weary of incidents during high volume times."
   ],
   "metadata": {
    "collapsed": false
   }
  },
  {
   "cell_type": "markdown",
   "source": [
    "### 5.2 NLP Processing on Incident Descriptions\n",
    "\n",
    "As discussed before the description and incident info columns are lackluster in the information provided. The former contains the location of the incident in terms of streets and the latter contains a brief description of the kind of incident and affected lanes. While this is not ideal, there may be insights to be gained by simple language processing on these columns."
   ],
   "metadata": {
    "collapsed": false
   }
  },
  {
   "cell_type": "markdown",
   "source": [
    "#### 5.21 Incident_Info analysis"
   ],
   "metadata": {
    "collapsed": false
   }
  },
  {
   "cell_type": "code",
   "execution_count": null,
   "outputs": [],
   "source": [
    "from nltk.corpus import stopwords\n",
    "stop_words = stopwords.words('english')\n",
    "\n",
    "# Convert series to lowercase list and tokenize with the nltk library.\n",
    "\n",
    "def series_to_wordcloud(series):\n",
    "    temp_list = series.tolist()\n",
    "    temp_list = ' '.join(temp_list). \\\n",
    "        lower()\n",
    "    temp_list = nltk.word_tokenize(temp_list)\n",
    "\n",
    "    # Remove punctuation\n",
    "    temp_list = [word for word in temp_list if word.isalpha()]\n",
    "\n",
    "    # Remove stopwords\n",
    "    temp_list = [word for word in temp_list if word not in stop_words]\n",
    "\n",
    "    # Generate wordcloud\n",
    "    wordcloud = WordCloud().generate(' '.join(temp_list))\n",
    "    plt.imshow(wordcloud, interpolation='bilinear')\n",
    "\n",
    "    # Show image only and draw to notebook\n",
    "    plt.axis('off')\n",
    "    plt.show()\n",
    "\n",
    "    # Return tokenized list to allow for further processing if needed\n",
    "    return temp_list"
   ],
   "metadata": {
    "collapsed": false,
    "pycharm": {
     "is_executing": true
    }
   }
  },
  {
   "cell_type": "code",
   "execution_count": null,
   "outputs": [],
   "source": [
    "# Create wordcloud for incident info\n",
    "incident_info_tokenized = pd.Series(series_to_wordcloud(df['Incident_Info']))"
   ],
   "metadata": {
    "collapsed": false,
    "pycharm": {
     "is_executing": true
    }
   }
  },
  {
   "cell_type": "markdown",
   "source": [
    "The word cloud of the Incident_Info column confirms some assumptions many Calgary commuters have. Deerfoot and Glenmore Trail are notoriously busy, heavily congested roads with many merges and off ramps. Seeing their names as large words in this wordcloud confirms that they are also inherently more dangerous. The wordcloud struggles to highlight further information as trail and avenue are so frequent. Learning the respective value counts further along may help paint a better picture. First let's see how the Description column looks on a word cloud."
   ],
   "metadata": {
    "collapsed": false
   }
  },
  {
   "cell_type": "code",
   "execution_count": null,
   "outputs": [],
   "source": [
    "description_tokenized = pd.Series(series_to_wordcloud(df['Description']))"
   ],
   "metadata": {
    "collapsed": false,
    "pycharm": {
     "is_executing": true
    }
   }
  },
  {
   "cell_type": "markdown",
   "source": [
    "The word cloud also reaffirms our current understanding of Calgary traffic incidents. AT least one vehicle is usually involved and either the left or right lanes are usually involved possibly indicating the collision is near a merge or off ramp of some kind. On a happier note we can see that Incidents involving pedestrians are on a smaller scale to everything. Overall it's a good starting point, but further analysis is required to gain meaningful insights on NLP."
   ],
   "metadata": {
    "collapsed": false
   }
  },
  {
   "cell_type": "markdown",
   "source": [
    "### 5.22 Further NLP processing\n",
    "\n",
    "Let's see if looking at the statistics of the tokenized columns provides further insights."
   ],
   "metadata": {
    "collapsed": false
   }
  },
  {
   "cell_type": "code",
   "execution_count": null,
   "outputs": [],
   "source": [
    "incident_info_tokenized.value_counts()[:10]"
   ],
   "metadata": {
    "collapsed": false,
    "pycharm": {
     "is_executing": true
    }
   }
  },
  {
   "cell_type": "markdown",
   "source": [
    "When looking at the top 10 most frequent words in Incident_Info the type of roads are seen as the top 3. [This](https://calgaryherald.com/news/local-news/in-naming-streets-strict-rules-dictate-roads-rises-trails-and-more) website indicates the following definitions are used to name a road.\n",
    "\n",
    "- Avenue: Generally numerical east-west roadways.\n",
    "- Drive: A collector roadway.\n",
    "- Street: Generally numerical north-south roadways.\n",
    "- Trail: High traffic transportation arteries that span more than one area of the city.\n",
    "\n",
    "Our data pinpoints that out trail is the most frequently involved word in the information surrounding these crashes. Highlighting the fact that high speed roadways with multiple on and off ramps are the most dangerous roads in the city. Avenue and street are also in the top 3. These names are mostly reserved for downtown roadways and also confirm that downtown driving is another problem point for Calgary drivers. Further analysis could be done to compare the severity of crashes on trails vs avenues and streets."
   ],
   "metadata": {
    "collapsed": false
   }
  },
  {
   "cell_type": "code",
   "execution_count": null,
   "outputs": [],
   "source": [
    "# Query the least common words in incident info\n",
    "incident_info_tokenized.value_counts()[-10:]"
   ],
   "metadata": {
    "collapsed": false,
    "pycharm": {
     "is_executing": true
    }
   }
  },
  {
   "cell_type": "markdown",
   "source": [
    "The least common words appear to be mostly grammatical errors. This would indicate the RSS feed this data is based on has some kind of human input and not purely automated. It also reaffirms that the text data for this dataset is a secondary thought and not all that important to the overall dataset. At least in terms of the reporting methods."
   ],
   "metadata": {
    "collapsed": false
   }
  },
  {
   "cell_type": "code",
   "execution_count": null,
   "outputs": [],
   "source": [
    "incident_info_tokenized.value_counts()[:20].plot(kind='barh',\n",
    "                                                 title='Incident Info Most Used Words',\n",
    "                                                 xlabel='Words',\n",
    "                                                 ylabel='Frequency')"
   ],
   "metadata": {
    "collapsed": false,
    "pycharm": {
     "is_executing": true
    }
   }
  },
  {
   "cell_type": "markdown",
   "source": [
    "The graph reaffirms more of the same as the statistics."
   ],
   "metadata": {
    "collapsed": false
   }
  },
  {
   "cell_type": "code",
   "execution_count": null,
   "outputs": [],
   "source": [
    "description_tokenized.value_counts()[:10]"
   ],
   "metadata": {
    "collapsed": false,
    "pycharm": {
     "is_executing": true
    }
   }
  },
  {
   "cell_type": "code",
   "execution_count": null,
   "outputs": [],
   "source": [
    "description_tokenized.value_counts()[-10:]"
   ],
   "metadata": {
    "collapsed": false,
    "pycharm": {
     "is_executing": true
    }
   }
  },
  {
   "cell_type": "markdown",
   "source": [
    "The statistics for description unfortunately don't give us many insights. The RSS feed only indicates the bare minimum information for drivers to plan their route. It's clear this column is not meant to be analysed in this aspect as the information is of more use to the commuter at that point in time. It also does not contain information such as severity as these are reported at the time of the crash when details still need to be worked out. To get a better picture of the traffic incidents in Calgary revising the RSS feed to store more information after the traffic is cleared would be a great first step in allowing for further insights to be gained. A graph will not be plotted for this data."
   ],
   "metadata": {
    "collapsed": false
   }
  },
  {
   "cell_type": "markdown",
   "source": [
    "## 6. Reflection and Critical Evaluation"
   ],
   "metadata": {
    "collapsed": false
   }
  },
  {
   "cell_type": "markdown",
   "source": [
    "### 6.1 Reflection\n",
    "\n",
    "Throughout this project. The data from Calgary's open data website about the traffic incidents in the City has been analysed. The data was taken from the website via SODA api and stored in a pandas dataframe. The dataframe allowed for simple manipulation and analysis using multiple different tools. The data has been visualized using simple bar plots, heatmaps and word clouds. These visualisations have been combined with simple statistics to paint a very broad picture of the traffic incidents in Calgary. Through these approaches simple insights have been gained that have confirmed a lot of preconceived assumptions about traffic incidents in Calgary. ALl of this analysis was in the vein of answers simple research questions. The data successfully answered most of our research questions, but fell short in some areas.\n",
    "\n",
    "1. Which areas of the city have the most incidents?\n",
    "    - Hypothesis: Downtown roads and highways are to be the most dangerous roads.\n",
    "        -  This hypothesis was confirmed by the dataset. We saw that high speed roadways with multiple merge and off ramps pose a significantly higher risk to commuter in the city of Calgary. Streets and avenues that are mostly downtown also made up a significant portion of the reported incidents in the dataset. Thereby, confirming that commuters using these roads are at a higher risk of being affected by a traffic incident in some manner.\n",
    "2. What time of day has the highest number of incidents?\n",
    "    - Hypothesis: Rush hours (8-9) and (5-6) are the most dangerous hours of a day.\n",
    "        -  This hypothesis was also confirmed by the analysis. Plotting the hours the traffic incidents took place highlighted how rush hours were their highest local maximum in terms of incident counts. With the rush hour between 6-8 being the most dangerous time of the day. While this point may seem obvious when confirmed, the data helps reinforce this idea and gives commuters if anything more reason to be just a little safer during rush hour. Especially on high speed roads.\n",
    "3. Does the day, week, month, or year cause variance in the frequency of incidents?\n",
    "    - Hypothesis: Winter months and weekdays are the most dangerous times to be on the road.\n",
    "        - This hypothesis was also confirmed by our analysis. We saw that winter months had a higher number of incidents than the mean and that weekdays had almost double the amount of incidents compared too weekends. While a driver should always be fully aware during a commute. This data highlights that vehicles should have winter tires on and competent defensive driver on the roads especially when the conditions are not ideal. A surprising insight that was gained from this part of the anlays was the fact that Friday is the most dangerous day to commute in the City. My assumption would be Monday. HHowever, Monday was the third-lowest day for total incidents. Visualising how traffic behaviour changes on a time basis deserves more attention in future analysis projects.\n",
    "4. What kind of incidents are happening?\n",
    "    - Does the type of incident affect the time between the start and end of accident?\n",
    "        - Unfortunately, our dataset lacked sufficient information to properly distinguish the type of incidents. The description for almost all incidents was a very simple sentence, which contained information that would be helpful to drivers planning their daily commute, but not information that actually describes the severity of the crash, type of incident etc. This is a point I believe the ATIS could be upgraded to include. Having this type of information would allow for easy analysis of roads in the city that are more dangerous than other in a higher degree of understanding.\n",
    "    - Does the type of incident change based on location in the city?\n",
    "        -  Our dataset also failed to answer this question as before the incident info did not contain sufficient information to answer this question. As very few incidents had quality information past Traffic Incident, left lane blocked etc. Hopefully in the future the incident info can be more flushed out to maybe highlight things such as pedestrians involved, bikers involved, motorcycle incident etc. TO again gain a deeper understanding of exaclty what dangers each road can potentialy pose to not only commuters, but also do non-commuters."
   ],
   "metadata": {
    "collapsed": false
   }
  },
  {
   "cell_type": "markdown",
   "source": [
    "### 6.2 Critical Evaluation\n",
    "\n",
    "Successful data analysis is based on two things. The quality of the data and the individual analysing the data. Throughout this project, I have come to realize that the chosen dataset is great for it's intended task, but not more. It's meant to provide commuters reasonably accurate information on the current road conditions in Calgary. Upon reflection, it's clear this limited the avenues I could proceed with in this analysis. As discussed above, gaining a deeper understanding into what incidents are happening when and where is difficult when we only know that an incident occurred at x coordinate. For city's to accurately understand their driving patterns and areas to focus on, I believe more complex ATIS tracking systems need to be implemented to help traffic analysts point city planners in the right direction.\n",
    "\n",
    "The dataset was not the only area that let to limitations and challenges. My skills as a data analyst also provided a challenge. Python and it's many data oriented libraries serves as a phenomenal tool to help understand any given dataset. However, it's clear after many hours of research and documentation review you can't become proficient at data analysis after one dataset or even 20. It's an ever-growing field and the knowledge base is massive. It's difficult to know which path you should take to ensure you get accurate results from the data. I am proud of this project. However, there are clear area's for improvement, those of which are listed below.\n",
    "\n",
    "- Creating an interactive map with the data is something I originally planned to do. After researching the implementation, it was clear it was not feasible with the current timeline I have. The map was intended to show the incidents by year and have markers that were interactive. I also wanted to implement a choropleth map to help get an idea of the incidents by city districts. That too proved beyond my current skill-set. This data is meant to be displayed on a map of some kind, and I believe that further exploration with mapping this data can lead to valuable insights that I fell short of.\n",
    "- Replacing NA values is another area I feel deserves to be reviewed. It's hard to verify that you made the correct decision in either replacing NA values or removing them from the dataset entirely. Given more time, it would be worthwhile to see if removing all invalid values instead of replacing them with the median is a better idea.\n",
    "- Pandas is an extremely powerful tool and properly using it as a beginner is a big undertaking. As an individual who has mostly used applications like excel it's hard to adjust to a programming workflow and manipulate data without a visual aid. Through many attempts, the pandas dataframe turned into fairly wrangled data, but I believe that a deeper understanding of pandas would lead ot better insights and a more polished research project.\n"
   ],
   "metadata": {
    "collapsed": false
   }
  },
  {
   "cell_type": "markdown",
   "source": [
    "## 7. Conclusion\n",
    "\n",
    "Throughout the course of this EDA, common beliefs around the City of Calgary's traffic incident behaviors have been more or less confirmed through data analysis. The reader now has a general understanding of what roads and during what times traffic incidents are most likely to occur in the City.\n",
    "\n",
    "The dataset has also been refined to allow for further analysis such as predictive modelling. Should this topic be further pursued I believe this dataset combined with other data from open Calgary and open Alberta/Canada can provide gainful insight that will allow city planners to evaluate the success of the road system in Calgary. For example, combining traffic counts with incident counts, the city could confirm if new intersections types such as the newly implemented [diamond](https://www.cbc.ca/news/canada/calgary/diverging-diamond-interchange-opens-calgary-1.4245773) in the south of the city actually reduced total incidents while maintaining the same amount of traffic.\n",
    "\n",
    "The data can also be used to start a predictive modeling analysis to start aiding in the City's incident response procedures. Using inputs such as this refined dataset alongside weather and traffic count data an AI model could aid in alerting the City to potential high congestion days. Which would allow them to prepare ahead of time and thereby reduce potential fatalities and clean up times.\n",
    "\n",
    "Overall traffic data of all kind should be further explored and refined to ensure that governments and commuters reap the benefits from safe roads, properly planned intersections and proper civil engineering through data analysis."
   ],
   "metadata": {
    "collapsed": false
   }
  },
  {
   "cell_type": "markdown",
   "id": "3c4b9a8f-59b2-47b1-8d41-8405358eb953",
   "metadata": {},
   "source": [
    "## 8. References and Resources"
   ]
  },
  {
   "cell_type": "markdown",
   "id": "54e517df-4636-4545-8e4a-92ca0b101c3d",
   "metadata": {},
   "source": [
    "### 8.1 References"
   ]
  },
  {
   "cell_type": "markdown",
   "source": [
    "### Literature Review\n",
    "\n",
    "- Henrick J. Haule (2018, July 6). Evaluating the impact and clearance duration of freeway incidents. International Journal of Transportation Science and Technology. https://www.sciencedirect.com/science/article/pii/S2046043018300522\n",
    "- (2022, June 20). Road traffic injuries. World Health Organization. https://www.who.int/news-room/fact-sheets/detail/road-traffic-injuries\n",
    "- (2020). Key messages quick statistics - ESCRIBE meetings. 2020 Traffic Collision Summary. City of Calgary. https://pub-calgary.escribemeetings.com/filestream.ashx?DocumentId=189649\n",
    "- Fard, M.Sc., P.Eng., PMP, S. (2020, August 17). Prediction of traffic incidents in Calgary - linkedin. https://www.linkedin.com/pulse/prediction-traffic-incidents-calgary-siavash-fard-"
   ],
   "metadata": {
    "collapsed": false
   }
  },
  {
   "cell_type": "markdown",
   "source": [
    "### Articles\n",
    "\n",
    "- Three Canadian cities rank among World’s most liveable. Moving2Canada. (2022, November 10). https://moving2canada.com/news-and-features/features/planning/destination-guides/calgary/2022-eiu-liveability-index-three-canadian-cities-top-ten/"
   ],
   "metadata": {
    "collapsed": false
   }
  },
  {
   "cell_type": "markdown",
   "source": [
    "### 8.2 Resources used"
   ],
   "metadata": {
    "collapsed": false
   }
  },
  {
   "cell_type": "markdown",
   "source": [
    "### Documentation\n",
    "\n",
    "- Getting started with the soda consumer api. Socrata. https://dev.socrata.com/consumers/getting-started.html\n",
    "- pandas 2.0.2 documentation. https://pandas.pydata.org/docs/"
   ],
   "metadata": {
    "collapsed": false
   }
  },
  {
   "cell_type": "markdown",
   "source": [
    "#### Data Analysis Resources\n",
    "\n",
    "- Rob Mulla. (2021). Exploratory Data Analysis with Pandas Python 2023. YouTube. Retrieved May 30, 2023, from https://www.youtube.com/watch?v=xi0vhXFPegw&amp;t=372s.\n",
    "- Bhutaiya, R. (2022, February 25). Pandas - EDA: Smart way to replace nan. Medium. https://medium.com/analytics-vidhya/pandas-eda-smart-way-to-replace-nan-554aedc0b5b6"
   ],
   "metadata": {
    "collapsed": false
   }
  },
  {
   "cell_type": "markdown",
   "source": [
    "#### Data Sourcing\n",
    "\n",
    "- Traffic incidents: Open Calgary. data.calgary.ca. https://data.calgary.ca/Transportation-Transit/Traffic-Incidents/35ra-9556\n",
    "- Calgary Traffic Report and road closures. https://www.calgary.ca. https://www.calgary.ca/roads/conditions/traffic.html"
   ],
   "metadata": {
    "collapsed": false
   }
  },
  {
   "cell_type": "markdown",
   "source": [
    "#### Pandas Resources\n",
    "\n",
    "- pandas.Series.value_counts - pandas 2.0.2 documentation. https://pandas.pydata.org/docs/reference/api/pandas.Series.value_counts.html\n",
    "- Random sampling from a list in Python (random.choice, Sample, choices). https://note.nkmk.me/en/python-random-choice-sample-choices/\n",
    "- How to replace all values in a pandas dataframe not in a list?. Stack Overflow. https://stackoverflow.com/questions/34866856/how-to-replace-all-values-in-a-pandas-dataframe-not-in-a-list\n",
    "- (2023, May 9). Replace nan values with zeros in pandas DataFrame. GeeksforGeeks. https://www.geeksforgeeks.org/replace-nan-values-with-zeros-in-pandas-dataframe/\n",
    "- Pandas: Subtracting two date columns and the result being an integer. Stack Overflow. https://stackoverflow.com/questions/37840812/pandas-subtracting-two-date-columns-and-the-result-being-an-integer\n",
    "- How to split a date column into separate day , month ,year column in Pandas. Stack Overflow. https://stackoverflow.com/questions/55776571/how-to-split-a-date-column-into-separate-day-month-year-column-in-pandas"
   ],
   "metadata": {
    "collapsed": false
   }
  },
  {
   "cell_type": "markdown",
   "source": [
    "### Python Aid\n",
    "\n",
    "- Import data to dataframe using SODA API. Stack Overflow. https://stackoverflow.com/questions/46572365/import-data-to-dataframe-using-soda-api"
   ],
   "metadata": {
    "collapsed": false
   }
  }
 ],
 "metadata": {
  "kernelspec": {
   "display_name": "Python 3 (ipykernel)",
   "language": "python",
   "name": "python3"
  },
  "language_info": {
   "codemirror_mode": {
    "name": "ipython",
    "version": 3
   },
   "file_extension": ".py",
   "mimetype": "text/x-python",
   "name": "python",
   "nbconvert_exporter": "python",
   "pygments_lexer": "ipython3",
   "version": "3.9.13"
  }
 },
 "nbformat": 4,
 "nbformat_minor": 5
}
