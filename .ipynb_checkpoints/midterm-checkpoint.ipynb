{
 "cells": [
  {
   "cell_type": "markdown",
   "id": "1abc400e-c7cb-44d3-9488-3bb9c9350dea",
   "metadata": {},
   "source": [
    "# City of Calgary Traffic Incidents Exploratory Data Analysis"
   ]
  },
  {
   "cell_type": "markdown",
   "id": "d4791bdb-feb4-4caf-b3a6-02c0c5ee5ead",
   "metadata": {},
   "source": [
    "## 1. Introduction"
   ]
  },
  {
   "cell_type": "markdown",
   "id": "674b1fe8-627a-45cb-95d5-1ccfb9fb9657",
   "metadata": {},
   "source": [
    "### 1.1 Project Overview\n",
    "\n",
    "The City of Calgary is consistently rated as one of the best places to live in the world according to the [EIU](https://moving2canada.com/news-and-features/features/planning/destination-guides/calgary/2022-eiu-liveability-index-three-canadian-cities-top-ten/). With it's proximity to the Rocky Mountains and it's large business sector, Calgary provides to all demographics an excellent place to call home. With all the locations to visit within and around the city, Calgary has an avid commuter culture. I happen to be one such commuter.\n",
    "\n",
    "During my commuting time, I stick to roads in the south west quadrant of the city and have never been in a traffic incident. However, many traffic incidents are reported via radio at high volume times. Combining this with my recent exploration of north west and north east quadrants of the city, I began to ask myself whether I am at a higher risk of being in an accident. Naively, I would assume that smaller roads and more cars would mean more incidents. In particular, downtown streets or busy highways with small merges seem like the most likely place to have an incident. \n",
    "\n",
    "The most dangerous roads in Calgary can be determined by using data from the traffic incident dataset provided by the City of Calgary's [open data](https://data.calgary.ca/Transportation-Transit/Traffic-Incidents/35ra-9556) website. The data from this website can be used to get insight into the traffic incident patterns of the burgeoning metropolitan city  by utilizing exploratory data analysis and further data exploration techniques such as predictive modeling. "
   ]
  },
  {
   "cell_type": "markdown",
   "id": "8cf49ab4-4701-4859-b944-17a75f46b205",
   "metadata": {},
   "source": [
    "### 1.2 Literature Review and background\n",
    "\n",
    "Traffic incidents are a heavily researched area. The [World Health Organization](https://www.who.int/news-room/fact-sheets/detail/road-traffic-injuries) has an overview of traffic incidents within the global picture. Some key points are below:\n",
    "- Approximately 1.3 million indidivuals die each year as a result of a traffic incident.\n",
    "- 93% of the world's fatalities on the roads occur in low- and middle-income countries, even though these countries have approximately 60% of the world's vehicles.\n",
    "\n",
    "The global stats aid in guiding the data anaylsis. The data from Calgary will be expected to show us a higher number of traffic incidents in lower income areas, such as Forest Lawn.\n",
    "\n",
    "Research has also been done on a more focused level within the City of Calgary. The dataset this project focuses on has been at the center of analysis before. Data analysis of the 2020 traffic incidents compared to 2019 was completed [here](https://pub-calgary.escribemeetings.com/filestream.ashx?DocumentId=189649). It shows a sharp decline in overall incidents. Which is to be expected during the height of the lockdown in Alberta, Canada. While the linked paper focuses more on the stats from 2019 compared to 2020, this project is meant to paint a larger overall picture using the complete dataset. With the increase in population and return to regular road use, analysing data from \"normal\" times is crucial to understanding incident heavy areas today.\n",
    "\n",
    "Another more informal analysis was conducted by Siavash Fard, M.Sc., P.Eng., PMP, which is posted on [LinkedIn](https://www.linkedin.com/pulse/prediction-traffic-incidents-calgary-siavash-fard-/). This analysis attempts to predict future incidents using the traffic incident dataset used in this study, in addition to data regarding traffic control devices. The analysis focuses on prediction techniques, as opposed to visualizing an finding insights into the dataset.\n",
    "\n",
    "The former studies show a solid area for this project to focus on. We can use the former research projects and define teh areas where we need to focus on below."
   ]
  },
  {
   "cell_type": "markdown",
   "id": "6db738d8-ba1f-4bb8-b075-146af5d292cf",
   "metadata": {},
   "source": [
    "### 1.3 Aims and Objectives\n",
    "\n",
    "To examine the nature of the traffic incidients in Calgary, the following questions will need to be answered:\n",
    "1. Which areas of the city have the most incidents?\n",
    "    - Hypothesis: Downtown roads and highways are to be the most dangerous roads.\n",
    "2. What time of day has highest number of incidents?\n",
    "    - Hypothesis: Rush hours (8-9) and (5-6) are the most dangerous hours of a day.\n",
    "3. Does the day, week, month, or year cause variance in the frequency of incidents?\n",
    "    - Hypothesis: Winter months and weekdays are the most dangerous times to be on the road.\n",
    "4. What kind of incidents are happening?\n",
    "    - Does the type of incident affect the time between the start and end of accident?\n",
    "    - Does the type of incident change based on location in the city?\n",
    "    \n",
    "Answering these questions will allow us to pinpoint unsafe areas during a commute within the city. The data source noted that the dataset is updated every 10 minutes with new traffic incidents. Therefore, as the dataset grows, we will be able to bring in more data to more thoroughly examine the nature of traffic incidents in Calgary."
   ]
  },
  {
   "cell_type": "markdown",
   "id": "59f52660-bc2b-481f-879e-31cb3f2d4f43",
   "metadata": {},
   "source": [
    "### 1.4 Introduction Summary\n",
    "\n",
    "Understanding the dangers of commuting within Calgary will shed some light on areas to avoid during certain hours. Furthermore it can also be used to help city planners develop solid plans to mitigate problem areas. Let us move on to importing the data we will use for the project."
   ]
  },
  {
   "cell_type": "code",
   "execution_count": 1,
   "id": "88bef1b5-2455-403d-94ab-2a5dc417a8ff",
   "metadata": {},
   "outputs": [],
   "source": [
    "# Import Necessary Libraries\n",
    "import pandas as pd\n",
    "import numpy as np\n",
    "import matplotlib.pyplot as plt\n",
    "import seaborn as sns\n",
    "\n",
    "# Library to get most up to date csv from open Calgary\n",
    "from sodapy import Socrata\n",
    "\n",
    "# Module to help in handling NaN values\n",
    "import random"
   ]
  },
  {
   "cell_type": "markdown",
   "id": "747458ba-c858-4a4c-9cb2-d9d7e8e6dc4d",
   "metadata": {},
   "source": [
    "## 2. Data Acquisition and Justification "
   ]
  },
  {
   "cell_type": "markdown",
   "id": "ea190f28-1124-4cdf-ae09-dba7287177f7",
   "metadata": {},
   "source": [
    "### 2.1 Data Source and Review\n",
    "\n",
    "As mentioned previously, we will be focusing on traffic incident data provided by the City of Calgary. This data is an archive of reported traffic incidents within the city. These traffic incidents range from stalled vehicles to multi-vehicle collisions. The dataset is updated every ten minutes and has been updated since December 4th, 2017. Analyzing this dataset will answer the research questions and it provides a large enough dataset to gain meaningful insights into the traffic incidents in Calgary.\n",
    "\n",
    "Traffic incidents are collected via an advanced traveler information system, or ATIS, which collects information from a wide source of inputs. Inputs include commuter reported incidents via the WAZE application and traffic cameras. More information about Calgary's ATIS can be found [here](https://www.calgary.ca/roads/conditions/advanced-traveller-information-system.html).\n",
    "\n",
    "This dataset provides the most accurate picture of Calgary traffic incidents available for public use. It does however have its flaws. The website indicates, \"please note there may be gaps in the data due to system or script malfunction.\" This is a good indicator of problems areas to view during data cleansing. The data is also limited by the methods of reporting, for example instances where individuals may decide not to report. Instances of false positives, or erros in collection methodology. Ensuring effective data wrangling is employed will ensure the data is accurate and reasonably scrutinized."
   ]
  },
  {
   "cell_type": "markdown",
   "id": "c03f088d-5aad-4147-b2a0-92ab9181a6d2",
   "metadata": {
    "tags": []
   },
   "source": [
    "### 2.2 Data Comparison\n",
    "\n",
    "This data set is well suited to answer our research questions. This can be confirmed by comparing it to other sources of data within the traffic of Calgary sphere of information.\n",
    "\n",
    "The [Calgary Traffic Counts System](https://trafficcounts.calgary.ca/) is another open data source provided by the city of Calgary. It provides data related to traffic around major intersections. This data has been collected for over 40 years. Which would paint a much better historical picture of the traffic situation in Calgary. The data does not explicitly show incidents, rather the overall use of the roads within Calgary. It would be better suited toward's understanding the growth and use of the roads in general as opposed to the roads and times which are the most dangerous.\n",
    "\n",
    "Considering the sources for accurate data are quite slim, we are limited to data provided by either the Alberta government or the City of Calgary. An example of data from the Alberta government can be found [here](https://open.alberta.ca/opendata/traffic-collision-casualties-alberta). This dataset is a high level overview of the number of incidents, deaths and injuries by year related to traffic incidents. Going from 2001-2014. This dataset paints an overall picture. However, each incident does not have associated information, there's no precise date and there is not any true analysis to follow because the dataset is so simple. It could be useful as supplementary data for this project. Comparing and contrasting Calgary's total incident rater to the provinces. Overall it is not ideal for our research area."
   ]
  },
  {
   "cell_type": "markdown",
   "id": "1077536f-a5fd-49a7-871b-c5c33475c9d0",
   "metadata": {},
   "source": [
    "### 2.3 Scope of work\n",
    "\n",
    "To answer the research questions; Patterns, trends and insights will need to be found within our dataset. To ensure these goals are met, the project will follow the below scope of work.\n",
    "\n",
    "- Import the dataset and conduct initial data exploration and cleaning. \n",
    "    - i.e. check for missing values, boundary cases or possible inaccuracies and validate data types.\n",
    "- Modify the data by adjusting any problem areas found in the prior step.\n",
    "- Conduct exploratory data analysis to bring the patterns, insights and trends to the surface which will answer our research questions.\n",
    "- Evaluate and summarize the findings brought to light by the EDA, ensuring these are linked back to the research questions.\n",
    "- Reflect on the process and outcomes of the EDA, from start to finish. Observing any potential misteps or areas that could be improved.\n",
    "\n",
    "This scope of work will ensre our research questions are answered. It will also allow for the data to be further processed and involved in future predictive modeling or machine learning algorithsm to help gain further insgihts into traffic incidents in the City of Calgary."
   ]
  },
  {
   "cell_type": "markdown",
   "id": "b5140243-cec0-4160-9592-26fcd52f2df7",
   "metadata": {},
   "source": [
    "### 2.4 Loading the Data\n",
    "\n",
    "#### Marker Note\n",
    "The below code was taken directly [this](https://stackoverflow.com/questions/46572365/import-data-to-dataframe-using-soda-api) stack overflow post.\n",
    "\n",
    "If the below code does not execute, a back-up file is provided. The data was saved on May 28th, 2023."
   ]
  },
  {
   "cell_type": "code",
   "execution_count": 2,
   "id": "1a4150dd-9cf9-4568-b5aa-eb8d83629167",
   "metadata": {},
   "outputs": [],
   "source": [
    "# Load updated data from https://data.calgary.ca/Transportation-Transit/Traffic-Incidents/35ra-9556\n",
    "\n",
    "# Unauthenticated client only works with public data sets. Note 'None'\n",
    "# in place of application token, and no username or password:\n",
    "##client = Socrata(\"data.calgary.ca\", None)\n",
    "\n",
    "# First 2000 results, returned as JSON from API / converted to Python list of\n",
    "# dictionaries by sodapy.\n",
    "##results = client.get_all(\"35ra-9556\")\n",
    "\n",
    "# Convert to pandas DataFrame\n",
    "##df = pd.DataFrame.from_records(results)"
   ]
  },
  {
   "cell_type": "code",
   "execution_count": 3,
   "id": "9c956f34-da8c-4718-b6b9-55c0dc418956",
   "metadata": {},
   "outputs": [],
   "source": [
    "# BACK UP CODE IF API FAILS.\n",
    "\n",
    "df = pd.read_csv(\"traffic-incidents-05-30-2023.csv\")"
   ]
  },
  {
   "cell_type": "markdown",
   "id": "e52bf8b3-5900-4782-b1e2-e797e30aad8c",
   "metadata": {},
   "source": [
    "### 2.4 Data Acquisition and Justification Summary\n",
    "\n",
    "The dataset from open Calgary combined with our review of similar reasearch papers/analysis will allow us to ask important questions and provide accurate insights that have yet to be explored."
   ]
  },
  {
   "cell_type": "markdown",
   "id": "81a58c44-0473-4145-ba51-2f8519d06917",
   "metadata": {},
   "source": [
    "## 3. Data Exploration and Cleaning"
   ]
  },
  {
   "cell_type": "markdown",
   "id": "31197e42-48fb-4f07-ae3d-871fc663ee70",
   "metadata": {},
   "source": [
    "### 3.1 Data Exploration\n",
    "\n",
    "The dataset is to be explord in a simple manner in this section to ensure the data is ready for analysis. Which includes, understanding the rows and column values. Removing uneeded data and adjusting invalid values."
   ]
  },
  {
   "cell_type": "code",
   "execution_count": 4,
   "id": "c298f44b-721d-4d4f-923a-bc99504ccb41",
   "metadata": {
    "tags": []
   },
   "outputs": [
    {
     "data": {
      "text/plain": [
       "(39814, 13)"
      ]
     },
     "execution_count": 4,
     "metadata": {},
     "output_type": "execute_result"
    }
   ],
   "source": [
    "df.shape"
   ]
  },
  {
   "cell_type": "markdown",
   "id": "2e867454-6402-4220-9de4-927f34a24648",
   "metadata": {},
   "source": [
    "The shape property shows us that there have been approximately 40,000 traffic incidents since this dataset has started collection. The dataset also has 13 points of data per incident to analyzie and compare. An idea about the data columns and their irrespective information can be gathered by using the columns, head(), tail(), sample(), info(), and describe() properties/methods on the dataframe."
   ]
  },
  {
   "cell_type": "code",
   "execution_count": 5,
   "id": "1eb92be6-843c-41a9-a2db-9ee8f2a2432a",
   "metadata": {},
   "outputs": [
    {
     "name": "stdout",
     "output_type": "stream",
     "text": [
      "<class 'pandas.core.frame.DataFrame'>\n",
      "RangeIndex: 39814 entries, 0 to 39813\n",
      "Data columns (total 13 columns):\n",
      " #   Column                       Non-Null Count  Dtype  \n",
      "---  ------                       --------------  -----  \n",
      " 0   incident_info                39814 non-null  object \n",
      " 1   description                  39812 non-null  object \n",
      " 2   start_dt                     39814 non-null  object \n",
      " 3   modified_dt                  25757 non-null  object \n",
      " 4   quadrant                     25755 non-null  object \n",
      " 5   longitude                    39814 non-null  float64\n",
      " 6   latitude                     39814 non-null  float64\n",
      " 7   count                        39814 non-null  int64  \n",
      " 8   id                           39814 non-null  object \n",
      " 9   point                        39814 non-null  object \n",
      " 10  :@computed_region_kxmf_bzkv  39721 non-null  float64\n",
      " 11  :@computed_region_4a3i_ccfj  39721 non-null  float64\n",
      " 12  :@computed_region_4b54_tmc4  39718 non-null  float64\n",
      "dtypes: float64(5), int64(1), object(7)\n",
      "memory usage: 3.9+ MB\n"
     ]
    }
   ],
   "source": [
    "df.info()"
   ]
  },
  {
   "cell_type": "markdown",
   "id": "1db1bc41-8c58-48c4-930a-04b7ba5c541a",
   "metadata": {},
   "source": [
    "The info method indicates we have a dataset that is fairly healthy. It's clear the datatype of 7 columns need to be adjusted to ensure proper anlysis can take place. The columns description, modified_dt and quadrant all have null values in them. Description only has two which would indicate a easy fix can take place, while the latter two will need a more complex fix as close to 40% of their values are null. This would skew any data analysis we produce if we leave them as is. Methodology for fixing these values will be followed in the cleaning portion of this section."
   ]
  },
  {
   "cell_type": "code",
   "execution_count": 6,
   "id": "df81ea9b-1d97-4eaa-9e95-4c8f8acb374a",
   "metadata": {},
   "outputs": [
    {
     "data": {
      "text/html": [
       "<div>\n",
       "<style scoped>\n",
       "    .dataframe tbody tr th:only-of-type {\n",
       "        vertical-align: middle;\n",
       "    }\n",
       "\n",
       "    .dataframe tbody tr th {\n",
       "        vertical-align: top;\n",
       "    }\n",
       "\n",
       "    .dataframe thead th {\n",
       "        text-align: right;\n",
       "    }\n",
       "</style>\n",
       "<table border=\"1\" class=\"dataframe\">\n",
       "  <thead>\n",
       "    <tr style=\"text-align: right;\">\n",
       "      <th></th>\n",
       "      <th>incident_info</th>\n",
       "      <th>description</th>\n",
       "      <th>start_dt</th>\n",
       "      <th>modified_dt</th>\n",
       "      <th>quadrant</th>\n",
       "      <th>longitude</th>\n",
       "      <th>latitude</th>\n",
       "      <th>count</th>\n",
       "      <th>id</th>\n",
       "      <th>point</th>\n",
       "      <th>:@computed_region_kxmf_bzkv</th>\n",
       "      <th>:@computed_region_4a3i_ccfj</th>\n",
       "      <th>:@computed_region_4b54_tmc4</th>\n",
       "    </tr>\n",
       "  </thead>\n",
       "  <tbody>\n",
       "    <tr>\n",
       "      <th>0</th>\n",
       "      <td>68 Street north of 32 Avenue NE</td>\n",
       "      <td>Traffic incident.</td>\n",
       "      <td>2023-05-30T18:40:52.000</td>\n",
       "      <td>2023-05-30T19:11:29.000</td>\n",
       "      <td>NE</td>\n",
       "      <td>-113.935126</td>\n",
       "      <td>51.082180</td>\n",
       "      <td>1</td>\n",
       "      <td>2023-05-30T18:40:5251.082180180176614-113.9351...</td>\n",
       "      <td>{'type': 'Point', 'coordinates': [-113.9351261...</td>\n",
       "      <td>161.0</td>\n",
       "      <td>4.0</td>\n",
       "      <td>9.0</td>\n",
       "    </tr>\n",
       "    <tr>\n",
       "      <th>1</th>\n",
       "      <td>Woodpark Boulevard and Woodpark Avenue SW</td>\n",
       "      <td>Traffic incident.</td>\n",
       "      <td>2023-05-30T18:37:07.000</td>\n",
       "      <td>2023-05-30T19:11:29.000</td>\n",
       "      <td>SW</td>\n",
       "      <td>-114.109466</td>\n",
       "      <td>50.947267</td>\n",
       "      <td>1</td>\n",
       "      <td>2023-05-30T18:37:0750.94726710588861-114.10946...</td>\n",
       "      <td>{'type': 'Point', 'coordinates': [-114.1094664...</td>\n",
       "      <td>216.0</td>\n",
       "      <td>1.0</td>\n",
       "      <td>5.0</td>\n",
       "    </tr>\n",
       "    <tr>\n",
       "      <th>2</th>\n",
       "      <td>Evanston Drive and Evanston Hl NW</td>\n",
       "      <td>Traffic incident.</td>\n",
       "      <td>2023-05-30T18:10:10.000</td>\n",
       "      <td>2023-05-30T18:42:16.000</td>\n",
       "      <td>NW</td>\n",
       "      <td>-114.111164</td>\n",
       "      <td>51.179749</td>\n",
       "      <td>1</td>\n",
       "      <td>2023-05-30T18:10:1051.17974859950634-114.11116...</td>\n",
       "      <td>{'type': 'Point', 'coordinates': [-114.1111640...</td>\n",
       "      <td>237.0</td>\n",
       "      <td>2.0</td>\n",
       "      <td>3.0</td>\n",
       "    </tr>\n",
       "    <tr>\n",
       "      <th>3</th>\n",
       "      <td>Macleod Trail and 69 Avenue SW</td>\n",
       "      <td>Traffic incident. Blocking multiple lanes</td>\n",
       "      <td>2023-05-30T18:00:26.000</td>\n",
       "      <td>2023-05-30T18:01:55.000</td>\n",
       "      <td>NW</td>\n",
       "      <td>-114.071656</td>\n",
       "      <td>50.991433</td>\n",
       "      <td>1</td>\n",
       "      <td>2023-05-30T18:00:2650.991433177037095-114.0716...</td>\n",
       "      <td>{'type': 'Point', 'coordinates': [-114.0716556...</td>\n",
       "      <td>120.0</td>\n",
       "      <td>1.0</td>\n",
       "      <td>8.0</td>\n",
       "    </tr>\n",
       "    <tr>\n",
       "      <th>4</th>\n",
       "      <td>Northbound Shaganappi Trail north of Stoney T...</td>\n",
       "      <td>Traffic incident. Blocking the left lane</td>\n",
       "      <td>2023-05-30T17:39:58.000</td>\n",
       "      <td>2023-05-30T17:42:19.000</td>\n",
       "      <td>NW</td>\n",
       "      <td>-114.140886</td>\n",
       "      <td>51.154299</td>\n",
       "      <td>1</td>\n",
       "      <td>2023-05-30T17:39:5851.154298543179905-114.1408...</td>\n",
       "      <td>{'type': 'Point', 'coordinates': [-114.1408859...</td>\n",
       "      <td>220.0</td>\n",
       "      <td>2.0</td>\n",
       "      <td>3.0</td>\n",
       "    </tr>\n",
       "  </tbody>\n",
       "</table>\n",
       "</div>"
      ],
      "text/plain": [
       "                                       incident_info  \\\n",
       "0                   68 Street north of 32 Avenue NE    \n",
       "1         Woodpark Boulevard and Woodpark Avenue SW    \n",
       "2                 Evanston Drive and Evanston Hl NW    \n",
       "3                    Macleod Trail and 69 Avenue SW    \n",
       "4   Northbound Shaganappi Trail north of Stoney T...   \n",
       "\n",
       "                                 description                 start_dt  \\\n",
       "0                          Traffic incident.  2023-05-30T18:40:52.000   \n",
       "1                          Traffic incident.  2023-05-30T18:37:07.000   \n",
       "2                          Traffic incident.  2023-05-30T18:10:10.000   \n",
       "3  Traffic incident. Blocking multiple lanes  2023-05-30T18:00:26.000   \n",
       "4   Traffic incident. Blocking the left lane  2023-05-30T17:39:58.000   \n",
       "\n",
       "               modified_dt quadrant   longitude   latitude  count  \\\n",
       "0  2023-05-30T19:11:29.000       NE -113.935126  51.082180      1   \n",
       "1  2023-05-30T19:11:29.000       SW -114.109466  50.947267      1   \n",
       "2  2023-05-30T18:42:16.000       NW -114.111164  51.179749      1   \n",
       "3  2023-05-30T18:01:55.000       NW -114.071656  50.991433      1   \n",
       "4  2023-05-30T17:42:19.000       NW -114.140886  51.154299      1   \n",
       "\n",
       "                                                  id  \\\n",
       "0  2023-05-30T18:40:5251.082180180176614-113.9351...   \n",
       "1  2023-05-30T18:37:0750.94726710588861-114.10946...   \n",
       "2  2023-05-30T18:10:1051.17974859950634-114.11116...   \n",
       "3  2023-05-30T18:00:2650.991433177037095-114.0716...   \n",
       "4  2023-05-30T17:39:5851.154298543179905-114.1408...   \n",
       "\n",
       "                                               point  \\\n",
       "0  {'type': 'Point', 'coordinates': [-113.9351261...   \n",
       "1  {'type': 'Point', 'coordinates': [-114.1094664...   \n",
       "2  {'type': 'Point', 'coordinates': [-114.1111640...   \n",
       "3  {'type': 'Point', 'coordinates': [-114.0716556...   \n",
       "4  {'type': 'Point', 'coordinates': [-114.1408859...   \n",
       "\n",
       "   :@computed_region_kxmf_bzkv  :@computed_region_4a3i_ccfj  \\\n",
       "0                        161.0                          4.0   \n",
       "1                        216.0                          1.0   \n",
       "2                        237.0                          2.0   \n",
       "3                        120.0                          1.0   \n",
       "4                        220.0                          2.0   \n",
       "\n",
       "   :@computed_region_4b54_tmc4  \n",
       "0                          9.0  \n",
       "1                          5.0  \n",
       "2                          3.0  \n",
       "3                          8.0  \n",
       "4                          3.0  "
      ]
     },
     "execution_count": 6,
     "metadata": {},
     "output_type": "execute_result"
    }
   ],
   "source": [
    "# get the first 5 rows of dataset\n",
    "df.head()"
   ]
  },
  {
   "cell_type": "markdown",
   "id": "c8eb0e2c-2df8-467d-9cb8-1f912a796d5d",
   "metadata": {},
   "source": [
    "From df.head() a few obeservations can be made. \n",
    "- ***incident_info*** contains the street(s) the incident took place on.\n",
    "- ***description*** is a brief sentence regarding the type of incident.\n",
    "    - \"Traffic incident\" is not descriptive and takes up 4 of the 5 data points. How many incidents are labelled with this information?\n",
    "- ***start_dt and modified_dt*** contain the start and end of the reporting of said incident.\n",
    "    - Potential to use these columns to get total time of clean-up and get an inference on the severity of the accident based on new total_time column.\n",
    "- ***quadrant*** is what part of the city the incident took place in.\n",
    "- ***longitude and latitude*** store the longitude and latitude respectively.\n",
    "- ***count*** has an unkown meaning. The open Calgary website does not have any information on this column.\n",
    "    - All columns appear to have the value 1? Will need to confirm and if so remove from dataframe.   \n",
    "- ***id*** is the identifier of the incident. It contains a concatenation of the start_dt, latitude and longitude columns\n",
    "    - This column appears to be what is current sorting the dataframe.\n",
    "    - This column is another candidate to be removed from the dataframe as sorting by start_dt is equivalent.   \n",
    "- ***point*** stores a JSON object which contains information for a point containing the longitude and latitude\n",
    "    - Appears to be an object used within sodapy. Could be useful for a map visualization.\n",
    "    - If the point column make it easy to visualise data on a map, the longitude and lattude columns could be removed. Or vice versa.    \n",
    "- The last three clumns appear to be a byproduct of the SODA API. The open Calgary website does not list these and [this](https://hub.safe.com/publishers/cdesisto/templates/socrata_computed_columns) website confirms this.\n",
    "    - When cleaning data these three columns are to be dropped as they provide no usable data."
   ]
  },
  {
   "cell_type": "code",
   "execution_count": 7,
   "id": "61271cae-7bdb-4c10-b14f-ad7e03f6d9e2",
   "metadata": {},
   "outputs": [
    {
     "data": {
      "text/html": [
       "<div>\n",
       "<style scoped>\n",
       "    .dataframe tbody tr th:only-of-type {\n",
       "        vertical-align: middle;\n",
       "    }\n",
       "\n",
       "    .dataframe tbody tr th {\n",
       "        vertical-align: top;\n",
       "    }\n",
       "\n",
       "    .dataframe thead th {\n",
       "        text-align: right;\n",
       "    }\n",
       "</style>\n",
       "<table border=\"1\" class=\"dataframe\">\n",
       "  <thead>\n",
       "    <tr style=\"text-align: right;\">\n",
       "      <th></th>\n",
       "      <th>incident_info</th>\n",
       "      <th>description</th>\n",
       "      <th>start_dt</th>\n",
       "      <th>modified_dt</th>\n",
       "      <th>quadrant</th>\n",
       "      <th>longitude</th>\n",
       "      <th>latitude</th>\n",
       "      <th>count</th>\n",
       "      <th>id</th>\n",
       "      <th>point</th>\n",
       "      <th>:@computed_region_kxmf_bzkv</th>\n",
       "      <th>:@computed_region_4a3i_ccfj</th>\n",
       "      <th>:@computed_region_4b54_tmc4</th>\n",
       "    </tr>\n",
       "  </thead>\n",
       "  <tbody>\n",
       "    <tr>\n",
       "      <th>39809</th>\n",
       "      <td>Southbound University Drive at Crowchild Trail NW</td>\n",
       "      <td>2 vehicle incident.</td>\n",
       "      <td>2016-12-06T17:05:00.000</td>\n",
       "      <td>2016-12-06T17:10:00.000</td>\n",
       "      <td>NW</td>\n",
       "      <td>-114.119584</td>\n",
       "      <td>51.066391</td>\n",
       "      <td>1</td>\n",
       "      <td>2016-12-06T17:05:0051.06639113-114.1195835</td>\n",
       "      <td>{'type': 'Point', 'coordinates': [-114.1195835...</td>\n",
       "      <td>154.0</td>\n",
       "      <td>2.0</td>\n",
       "      <td>7.0</td>\n",
       "    </tr>\n",
       "    <tr>\n",
       "      <th>39810</th>\n",
       "      <td>Ogden Road at Bonnybrook Road SE</td>\n",
       "      <td>2 vehicle incident.</td>\n",
       "      <td>2016-12-06T16:26:00.000</td>\n",
       "      <td>2016-12-06T16:38:00.000</td>\n",
       "      <td>SE</td>\n",
       "      <td>-114.030872</td>\n",
       "      <td>51.028393</td>\n",
       "      <td>1</td>\n",
       "      <td>2016-12-06T16:26:0051.02839263-114.0308717</td>\n",
       "      <td>{'type': 'Point', 'coordinates': [-114.0308717...</td>\n",
       "      <td>98.0</td>\n",
       "      <td>3.0</td>\n",
       "      <td>10.0</td>\n",
       "    </tr>\n",
       "    <tr>\n",
       "      <th>39811</th>\n",
       "      <td>Macleod Trail at 9 Avenue SE</td>\n",
       "      <td>2 vehicle incident.</td>\n",
       "      <td>2016-12-06T16:25:00.000</td>\n",
       "      <td>2016-12-06T16:26:00.000</td>\n",
       "      <td>SE</td>\n",
       "      <td>-114.058178</td>\n",
       "      <td>51.044471</td>\n",
       "      <td>1</td>\n",
       "      <td>2016-12-06T16:25:0051.04447099-114.0581785</td>\n",
       "      <td>{'type': 'Point', 'coordinates': [-114.0581785...</td>\n",
       "      <td>262.0</td>\n",
       "      <td>3.0</td>\n",
       "      <td>7.0</td>\n",
       "    </tr>\n",
       "    <tr>\n",
       "      <th>39812</th>\n",
       "      <td>Eastbound Memorial Drive approaching Deerfoot ...</td>\n",
       "      <td>2 vehicle incident blocking the middle lane.</td>\n",
       "      <td>2016-12-06T14:36:00.000</td>\n",
       "      <td>2016-12-06T14:42:00.000</td>\n",
       "      <td>NE</td>\n",
       "      <td>-114.020548</td>\n",
       "      <td>51.047634</td>\n",
       "      <td>1</td>\n",
       "      <td>2016-12-06T14:36:0051.0476343-114.0205479</td>\n",
       "      <td>{'type': 'Point', 'coordinates': [-114.0205479...</td>\n",
       "      <td>137.0</td>\n",
       "      <td>4.0</td>\n",
       "      <td>10.0</td>\n",
       "    </tr>\n",
       "    <tr>\n",
       "      <th>39813</th>\n",
       "      <td>Eastbound McKnight Boulevard at 2 Street NW</td>\n",
       "      <td>Multi vehicle incident.</td>\n",
       "      <td>2016-12-06T10:00:00.000</td>\n",
       "      <td>2016-12-06T10:01:00.000</td>\n",
       "      <td>NW</td>\n",
       "      <td>-114.064987</td>\n",
       "      <td>51.096111</td>\n",
       "      <td>1</td>\n",
       "      <td>2016-12-06T10:00:0051.09611149-114.0649874</td>\n",
       "      <td>{'type': 'Point', 'coordinates': [-114.0649874...</td>\n",
       "      <td>192.0</td>\n",
       "      <td>2.0</td>\n",
       "      <td>2.0</td>\n",
       "    </tr>\n",
       "  </tbody>\n",
       "</table>\n",
       "</div>"
      ],
      "text/plain": [
       "                                           incident_info  \\\n",
       "39809  Southbound University Drive at Crowchild Trail NW   \n",
       "39810                   Ogden Road at Bonnybrook Road SE   \n",
       "39811                       Macleod Trail at 9 Avenue SE   \n",
       "39812  Eastbound Memorial Drive approaching Deerfoot ...   \n",
       "39813        Eastbound McKnight Boulevard at 2 Street NW   \n",
       "\n",
       "                                        description                 start_dt  \\\n",
       "39809                           2 vehicle incident.  2016-12-06T17:05:00.000   \n",
       "39810                           2 vehicle incident.  2016-12-06T16:26:00.000   \n",
       "39811                           2 vehicle incident.  2016-12-06T16:25:00.000   \n",
       "39812  2 vehicle incident blocking the middle lane.  2016-12-06T14:36:00.000   \n",
       "39813                       Multi vehicle incident.  2016-12-06T10:00:00.000   \n",
       "\n",
       "                   modified_dt quadrant   longitude   latitude  count  \\\n",
       "39809  2016-12-06T17:10:00.000       NW -114.119584  51.066391      1   \n",
       "39810  2016-12-06T16:38:00.000       SE -114.030872  51.028393      1   \n",
       "39811  2016-12-06T16:26:00.000       SE -114.058178  51.044471      1   \n",
       "39812  2016-12-06T14:42:00.000       NE -114.020548  51.047634      1   \n",
       "39813  2016-12-06T10:01:00.000       NW -114.064987  51.096111      1   \n",
       "\n",
       "                                               id  \\\n",
       "39809  2016-12-06T17:05:0051.06639113-114.1195835   \n",
       "39810  2016-12-06T16:26:0051.02839263-114.0308717   \n",
       "39811  2016-12-06T16:25:0051.04447099-114.0581785   \n",
       "39812   2016-12-06T14:36:0051.0476343-114.0205479   \n",
       "39813  2016-12-06T10:00:0051.09611149-114.0649874   \n",
       "\n",
       "                                                   point  \\\n",
       "39809  {'type': 'Point', 'coordinates': [-114.1195835...   \n",
       "39810  {'type': 'Point', 'coordinates': [-114.0308717...   \n",
       "39811  {'type': 'Point', 'coordinates': [-114.0581785...   \n",
       "39812  {'type': 'Point', 'coordinates': [-114.0205479...   \n",
       "39813  {'type': 'Point', 'coordinates': [-114.0649874...   \n",
       "\n",
       "       :@computed_region_kxmf_bzkv  :@computed_region_4a3i_ccfj  \\\n",
       "39809                        154.0                          2.0   \n",
       "39810                         98.0                          3.0   \n",
       "39811                        262.0                          3.0   \n",
       "39812                        137.0                          4.0   \n",
       "39813                        192.0                          2.0   \n",
       "\n",
       "       :@computed_region_4b54_tmc4  \n",
       "39809                          7.0  \n",
       "39810                         10.0  \n",
       "39811                          7.0  \n",
       "39812                         10.0  \n",
       "39813                          2.0  "
      ]
     },
     "execution_count": 7,
     "metadata": {},
     "output_type": "execute_result"
    }
   ],
   "source": [
    "# Display the last 5 elements to get an idea of the end of the dataframe.\n",
    "df.tail()"
   ]
  },
  {
   "cell_type": "markdown",
   "id": "6adc7401-ce56-408d-8073-462cd9ebbf22",
   "metadata": {},
   "source": [
    "We can see that the data goes back to 2016 instead of our initial understanding of 2017. This appears to of been an error on open Calgary's end. \n",
    "\n",
    "There is nothing out of the ordinary or not previously understood from df.head()."
   ]
  },
  {
   "cell_type": "code",
   "execution_count": 8,
   "id": "c188a07c-714d-4bf5-9727-b2d398e7d73e",
   "metadata": {},
   "outputs": [
    {
     "data": {
      "text/html": [
       "<div>\n",
       "<style scoped>\n",
       "    .dataframe tbody tr th:only-of-type {\n",
       "        vertical-align: middle;\n",
       "    }\n",
       "\n",
       "    .dataframe tbody tr th {\n",
       "        vertical-align: top;\n",
       "    }\n",
       "\n",
       "    .dataframe thead th {\n",
       "        text-align: right;\n",
       "    }\n",
       "</style>\n",
       "<table border=\"1\" class=\"dataframe\">\n",
       "  <thead>\n",
       "    <tr style=\"text-align: right;\">\n",
       "      <th></th>\n",
       "      <th>incident_info</th>\n",
       "      <th>description</th>\n",
       "      <th>start_dt</th>\n",
       "      <th>modified_dt</th>\n",
       "      <th>quadrant</th>\n",
       "      <th>longitude</th>\n",
       "      <th>latitude</th>\n",
       "      <th>count</th>\n",
       "      <th>id</th>\n",
       "      <th>point</th>\n",
       "      <th>:@computed_region_kxmf_bzkv</th>\n",
       "      <th>:@computed_region_4a3i_ccfj</th>\n",
       "      <th>:@computed_region_4b54_tmc4</th>\n",
       "    </tr>\n",
       "  </thead>\n",
       "  <tbody>\n",
       "    <tr>\n",
       "      <th>31612</th>\n",
       "      <td>Metis Trail and 64 Avenue NE</td>\n",
       "      <td>Two vehicle incident.</td>\n",
       "      <td>2018-05-18T16:13:00.000</td>\n",
       "      <td>2018-05-18T17:04:00.000</td>\n",
       "      <td>NE</td>\n",
       "      <td>-113.975295</td>\n",
       "      <td>51.110933</td>\n",
       "      <td>1</td>\n",
       "      <td>2018-05-18T15:13:5551.1109330631024-113.975295...</td>\n",
       "      <td>{'type': 'Point', 'coordinates': [-113.9752953...</td>\n",
       "      <td>74.0</td>\n",
       "      <td>4.0</td>\n",
       "      <td>11.0</td>\n",
       "    </tr>\n",
       "    <tr>\n",
       "      <th>6983</th>\n",
       "      <td>2 Street and 5 Avenue SW</td>\n",
       "      <td>Traffic incident.</td>\n",
       "      <td>2022-07-01T17:22:41.000</td>\n",
       "      <td>2022-07-01T19:17:27.000</td>\n",
       "      <td>SW</td>\n",
       "      <td>-114.067766</td>\n",
       "      <td>51.048529</td>\n",
       "      <td>1</td>\n",
       "      <td>2022-07-01T17:22:4151.048529004716194-114.0677...</td>\n",
       "      <td>{'type': 'Point', 'coordinates': [-114.0677656...</td>\n",
       "      <td>262.0</td>\n",
       "      <td>1.0</td>\n",
       "      <td>7.0</td>\n",
       "    </tr>\n",
       "    <tr>\n",
       "      <th>14915</th>\n",
       "      <td>Dalhousie Drive and Dalton Drive NW</td>\n",
       "      <td>Traffic incident.</td>\n",
       "      <td>2021-06-03T11:29:00.000</td>\n",
       "      <td>NaN</td>\n",
       "      <td>NaN</td>\n",
       "      <td>-114.154782</td>\n",
       "      <td>51.104780</td>\n",
       "      <td>1</td>\n",
       "      <td>2021-06-03T11:29:5351.1047795208294-114.154781...</td>\n",
       "      <td>{'type': 'Point', 'coordinates': [-114.1547819...</td>\n",
       "      <td>38.0</td>\n",
       "      <td>2.0</td>\n",
       "      <td>7.0</td>\n",
       "    </tr>\n",
       "    <tr>\n",
       "      <th>9659</th>\n",
       "      <td>Eastbound Memorial Drive at 9 Street NE</td>\n",
       "      <td>Traffic incident.</td>\n",
       "      <td>2022-02-04T23:45:00.000</td>\n",
       "      <td>2022-02-05T00:17:00.000</td>\n",
       "      <td>NE</td>\n",
       "      <td>-114.040250</td>\n",
       "      <td>51.048849</td>\n",
       "      <td>1</td>\n",
       "      <td>2022-02-04T23:45:0151.04884907768777-114.04024...</td>\n",
       "      <td>{'type': 'Point', 'coordinates': [-114.0402498...</td>\n",
       "      <td>137.0</td>\n",
       "      <td>4.0</td>\n",
       "      <td>10.0</td>\n",
       "    </tr>\n",
       "    <tr>\n",
       "      <th>22046</th>\n",
       "      <td>Westbound Stoney Trail after McKenzie Lake Bou...</td>\n",
       "      <td>Multi-vehicle incident. Blocking the WB exit ramp</td>\n",
       "      <td>2020-02-18T17:03:00.000</td>\n",
       "      <td>NaN</td>\n",
       "      <td>NaN</td>\n",
       "      <td>-114.002331</td>\n",
       "      <td>50.895589</td>\n",
       "      <td>1</td>\n",
       "      <td>2020-02-18T17:03:0150.89558883222174-114.00233...</td>\n",
       "      <td>{'type': 'Point', 'coordinates': [-114.0023307...</td>\n",
       "      <td>5.0</td>\n",
       "      <td>3.0</td>\n",
       "      <td>4.0</td>\n",
       "    </tr>\n",
       "  </tbody>\n",
       "</table>\n",
       "</div>"
      ],
      "text/plain": [
       "                                           incident_info  \\\n",
       "31612                       Metis Trail and 64 Avenue NE   \n",
       "6983                           2 Street and 5 Avenue SW    \n",
       "14915                Dalhousie Drive and Dalton Drive NW   \n",
       "9659             Eastbound Memorial Drive at 9 Street NE   \n",
       "22046  Westbound Stoney Trail after McKenzie Lake Bou...   \n",
       "\n",
       "                                             description  \\\n",
       "31612                              Two vehicle incident.   \n",
       "6983                                   Traffic incident.   \n",
       "14915                                  Traffic incident.   \n",
       "9659                                   Traffic incident.   \n",
       "22046  Multi-vehicle incident. Blocking the WB exit ramp   \n",
       "\n",
       "                      start_dt              modified_dt quadrant   longitude  \\\n",
       "31612  2018-05-18T16:13:00.000  2018-05-18T17:04:00.000       NE -113.975295   \n",
       "6983   2022-07-01T17:22:41.000  2022-07-01T19:17:27.000       SW -114.067766   \n",
       "14915  2021-06-03T11:29:00.000                      NaN      NaN -114.154782   \n",
       "9659   2022-02-04T23:45:00.000  2022-02-05T00:17:00.000       NE -114.040250   \n",
       "22046  2020-02-18T17:03:00.000                      NaN      NaN -114.002331   \n",
       "\n",
       "        latitude  count                                                 id  \\\n",
       "31612  51.110933      1  2018-05-18T15:13:5551.1109330631024-113.975295...   \n",
       "6983   51.048529      1  2022-07-01T17:22:4151.048529004716194-114.0677...   \n",
       "14915  51.104780      1  2021-06-03T11:29:5351.1047795208294-114.154781...   \n",
       "9659   51.048849      1  2022-02-04T23:45:0151.04884907768777-114.04024...   \n",
       "22046  50.895589      1  2020-02-18T17:03:0150.89558883222174-114.00233...   \n",
       "\n",
       "                                                   point  \\\n",
       "31612  {'type': 'Point', 'coordinates': [-113.9752953...   \n",
       "6983   {'type': 'Point', 'coordinates': [-114.0677656...   \n",
       "14915  {'type': 'Point', 'coordinates': [-114.1547819...   \n",
       "9659   {'type': 'Point', 'coordinates': [-114.0402498...   \n",
       "22046  {'type': 'Point', 'coordinates': [-114.0023307...   \n",
       "\n",
       "       :@computed_region_kxmf_bzkv  :@computed_region_4a3i_ccfj  \\\n",
       "31612                         74.0                          4.0   \n",
       "6983                         262.0                          1.0   \n",
       "14915                         38.0                          2.0   \n",
       "9659                         137.0                          4.0   \n",
       "22046                          5.0                          3.0   \n",
       "\n",
       "       :@computed_region_4b54_tmc4  \n",
       "31612                         11.0  \n",
       "6983                           7.0  \n",
       "14915                          7.0  \n",
       "9659                          10.0  \n",
       "22046                          4.0  "
      ]
     },
     "execution_count": 8,
     "metadata": {},
     "output_type": "execute_result"
    }
   ],
   "source": [
    "# Get a random selection of 5 data points to get a better picture of the data as a whole.\n",
    "df.sample(5)"
   ]
  },
  {
   "cell_type": "markdown",
   "id": "2a2ba11d-4555-48f5-9e75-94b7207d7898",
   "metadata": {},
   "source": [
    "More observations can be made with the sample method.\n",
    "- The desciption field is confirmed to contain simple descriptions about the incident.\n",
    "    - Simple NLP processing and word mapping is a good starting point for processing this column.\n",
    "- NaN appears in both modified_dt and quadrant. \n",
    "    - When comparing the total time of an incident if NaN is present in modified_dt it would be best to exclude the value of that datapoint.\n",
    "    - The quadrant NaN can be inferred from the incident_info column."
   ]
  },
  {
   "cell_type": "markdown",
   "id": "cfbe30cb-9a93-4b51-91b9-edd2afbcef4b",
   "metadata": {},
   "source": [
    "### 3.2 Data Cleaning\n",
    "\n",
    "Using the information from above. The dataframe can be cleaned to reduce it's complexity, remove invalid values and simplify analysis.\n",
    "This process is started by removing the count, id and last three columns."
   ]
  },
  {
   "cell_type": "code",
   "execution_count": 9,
   "id": "95384f6a-aeac-4f4f-a7e5-ccc17839e413",
   "metadata": {},
   "outputs": [
    {
     "data": {
      "text/plain": [
       "Index(['incident_info', 'description', 'start_dt', 'modified_dt', 'quadrant',\n",
       "       'longitude', 'latitude', 'count', 'id', 'point',\n",
       "       ':@computed_region_kxmf_bzkv', ':@computed_region_4a3i_ccfj',\n",
       "       ':@computed_region_4b54_tmc4'],\n",
       "      dtype='object')"
      ]
     },
     "execution_count": 9,
     "metadata": {},
     "output_type": "execute_result"
    }
   ],
   "source": [
    "# Get list of current columns to confirm starting configuration.\n",
    "df.columns"
   ]
  },
  {
   "cell_type": "code",
   "execution_count": 19,
   "id": "8c6809cf-4a8f-4102-85bd-6130eeb48f49",
   "metadata": {},
   "outputs": [
    {
     "name": "stdout",
     "output_type": "stream",
     "text": [
      "<class 'pandas.core.frame.DataFrame'>\n",
      "RangeIndex: 39814 entries, 0 to 39813\n",
      "Data columns (total 9 columns):\n",
      " #   Column         Non-Null Count  Dtype          \n",
      "---  ------         --------------  -----          \n",
      " 0   incident_info  39814 non-null  string         \n",
      " 1   description    39812 non-null  string         \n",
      " 2   start_dt       39814 non-null  datetime64[ns] \n",
      " 3   modified_dt    39814 non-null  datetime64[ns] \n",
      " 4   total_time     39814 non-null  timedelta64[ns]\n",
      " 5   quadrant       39814 non-null  string         \n",
      " 6   longitude      39814 non-null  float64        \n",
      " 7   latitude       39814 non-null  float64        \n",
      " 8   point          39814 non-null  object         \n",
      "dtypes: datetime64[ns](2), float64(2), object(1), string(3), timedelta64[ns](1)\n",
      "memory usage: 2.7+ MB\n"
     ]
    }
   ],
   "source": [
    "df.info()"
   ]
  },
  {
   "cell_type": "code",
   "execution_count": 11,
   "id": "884e0809-4575-493d-99f2-3d8de9693d81",
   "metadata": {},
   "outputs": [
    {
     "data": {
      "text/plain": [
       "array([1])"
      ]
     },
     "execution_count": 11,
     "metadata": {},
     "output_type": "execute_result"
    }
   ],
   "source": [
    "# Confirm values in \"count\" column\n",
    "df[\"count\"].unique()"
   ]
  },
  {
   "cell_type": "markdown",
   "id": "ecdc6597-036d-4443-8dd0-0bec351a5bbb",
   "metadata": {},
   "source": [
    "The unique method returned one value. Thereby confirming the count column serves no purpose for this analysis. It will be removed alongside the last 3 columns. Which were confirmed to be byproducts from the SODA API and not needed in the analysis."
   ]
  },
  {
   "cell_type": "code",
   "execution_count": 12,
   "id": "a37075e2-0e96-4ffb-9810-b1f793c53167",
   "metadata": {
    "tags": []
   },
   "outputs": [],
   "source": [
    "# Remove \"count\" and last three columns from dataframe.\n",
    "df.drop(columns=[':@computed_region_kxmf_bzkv', ':@computed_region_4a3i_ccfj', ':@computed_region_4b54_tmc4', 'count', 'id'], inplace=True)"
   ]
  },
  {
   "cell_type": "code",
   "execution_count": 13,
   "id": "f656815a-52b9-482e-8faf-c8bfac62c3d3",
   "metadata": {},
   "outputs": [],
   "source": [
    "# Adjust all columns to have the proper data type.\n",
    "df[['incident_info', 'description', 'quadrant']] = df[['incident_info', 'description', 'quadrant']].astype('string')\n",
    "\n",
    "df[['start_dt', 'modified_dt']] = df[['start_dt', 'modified_dt']].apply(pd.to_datetime)\n",
    "\n",
    "# trim any whitespace from string objects to allow for easier string manipulation.\n",
    "df = df.apply(lambda x: x.str.strip() if x.dtype == 'string' else x)"
   ]
  },
  {
   "cell_type": "code",
   "execution_count": 20,
   "id": "a04d5410-ca79-45e8-8556-ecbecdb3846e",
   "metadata": {},
   "outputs": [
    {
     "data": {
      "text/plain": [
       "incident_info    0\n",
       "description      2\n",
       "start_dt         0\n",
       "modified_dt      0\n",
       "total_time       0\n",
       "quadrant         0\n",
       "longitude        0\n",
       "latitude         0\n",
       "point            0\n",
       "dtype: int64"
      ]
     },
     "execution_count": 20,
     "metadata": {},
     "output_type": "execute_result"
    }
   ],
   "source": [
    "df.isnull().sum()"
   ]
  },
  {
   "cell_type": "code",
   "execution_count": 14,
   "id": "9f2c23de-551d-4275-8475-72a0fe60f472",
   "metadata": {},
   "outputs": [
    {
     "data": {
      "text/plain": [
       "SE    0.333049\n",
       "NE    0.273622\n",
       "SW    0.204777\n",
       "NW    0.166625\n",
       " S    0.008113\n",
       " N    0.007309\n",
       " E    0.002311\n",
       "ge    0.001105\n",
       " W    0.000377\n",
       "ea    0.000352\n",
       "il    0.000301\n",
       "ue    0.000176\n",
       "ad    0.000176\n",
       "th    0.000176\n",
       "ry    0.000126\n",
       "er    0.000126\n",
       "rd    0.000126\n",
       "E.      0.0001\n",
       "ve      0.0001\n",
       "vd    0.000075\n",
       "et    0.000075\n",
       "od     0.00005\n",
       "sW     0.00005\n",
       "Av     0.00005\n",
       "st     0.00005\n",
       "W.     0.00005\n",
       "wn     0.00005\n",
       "t;     0.00005\n",
       "ty    0.000025\n",
       "nW    0.000025\n",
       "nE    0.000025\n",
       "ia    0.000025\n",
       " 2    0.000025\n",
       "te    0.000025\n",
       "re    0.000025\n",
       "mp    0.000025\n",
       "ss    0.000025\n",
       "ls    0.000025\n",
       "r.    0.000025\n",
       "ed    0.000025\n",
       "sE    0.000025\n",
       "ds    0.000025\n",
       "Se    0.000025\n",
       "el    0.000025\n",
       "D     0.000025\n",
       "rt    0.000025\n",
       "Name: quadrant, dtype: Float64"
      ]
     },
     "execution_count": 14,
     "metadata": {},
     "output_type": "execute_result"
    }
   ],
   "source": [
    "# Remove NaN values from quadrant\n",
    "# Replace quadrant values with last two characters of incident_info. As this will populate more of the quadrant data.\n",
    "df['quadrant'] = df['incident_info'].str[-2:]\n",
    "\n",
    "# Confirm quadrant data is now more accurate.\n",
    "df['quadrant'].value_counts(normalize=True, dropna=False)"
   ]
  },
  {
   "cell_type": "markdown",
   "id": "bbacfd42-b215-400f-b869-272454cbb5a0",
   "metadata": {},
   "source": [
    "The 4 quadrants now account for 98% of the data as opposed to the ~60% we saw with all the null values at the start. The remaining 2% erroneous data can be replaced with a random selection from the quadrants list as it will allow for easier processing, won't skew the data signifcantly and will validate all values in quadrant."
   ]
  },
  {
   "cell_type": "code",
   "execution_count": 15,
   "id": "8349f845-88ea-4769-ac03-a309d9853bf7",
   "metadata": {},
   "outputs": [
    {
     "data": {
      "text/plain": [
       "SE    0.333049\n",
       "NE    0.273622\n",
       "SW    0.226704\n",
       "NW    0.166625\n",
       "Name: quadrant, dtype: Float64"
      ]
     },
     "execution_count": 15,
     "metadata": {},
     "output_type": "execute_result"
    }
   ],
   "source": [
    "quadrants = ['SE', 'NE', 'SW', 'NW']\n",
    "df.loc[~df['quadrant'].isin(quadrants), 'quadrant'] = random.choice(quadrants)\n",
    "df['quadrant'].value_counts(normalize=True, dropna=False)"
   ]
  },
  {
   "cell_type": "markdown",
   "id": "f91b5193-1e07-427a-b54a-1c25f8d2b43d",
   "metadata": {},
   "source": [
    "Erroneous values now need to be removed from modified_dt due to the large amount of missing data. The best option for this is to replace the NaN value with the average time it takes to clean up an accident added on to the start_dt. To get the average time, a new column called total_time will be created to hold the total time per accident. Which is the modified_dt minus start_dt."
   ]
  },
  {
   "cell_type": "code",
   "execution_count": 16,
   "id": "c26fdcdc-d45a-4962-a30d-35f9e9031f63",
   "metadata": {},
   "outputs": [],
   "source": [
    "# Remove NaN values from modified_dt\n",
    "\n",
    "\"\"\"\n",
    "To create total time, modifed_dt first needs to have all it's NaN values changed to a valid entry. This can be changed to the equivalent start_dt at the start. \n",
    "Which will create a total_time of 0 minutes.\n",
    "\"\"\"\n",
    "\n",
    "df['modified_dt'].fillna(df['start_dt'], inplace=True)\n",
    "\n",
    "# Create total_time series which is modified_dt - start_dt.\n",
    "total_time = (df['modified_dt'] - df['start_dt'])\n",
    "\n",
    "# Insert total_time into dataframe after modifed_dt.\n",
    "df.insert(loc = 4,\n",
    "         column = 'total_time',\n",
    "         value = total_time)\n",
    "\n",
    "# TODO Get total time for values which were missing"
   ]
  },
  {
   "cell_type": "code",
   "execution_count": 21,
   "id": "64dacaa6-2082-4e70-8c1b-6cfccb50df24",
   "metadata": {},
   "outputs": [],
   "source": [
    "# Remove null values from description. There are only two which can be replaced with the string \"traffic incident.\"\n",
    "df['description'] = df['description'].fillna('Traffic incident.')"
   ]
  },
  {
   "cell_type": "code",
   "execution_count": 22,
   "id": "f6f7ea0d-c1ed-4574-ba55-9f1fe48441ad",
   "metadata": {},
   "outputs": [
    {
     "data": {
      "text/plain": [
       "incident_info    0\n",
       "description      0\n",
       "start_dt         0\n",
       "modified_dt      0\n",
       "total_time       0\n",
       "quadrant         0\n",
       "longitude        0\n",
       "latitude         0\n",
       "point            0\n",
       "dtype: int64"
      ]
     },
     "execution_count": 22,
     "metadata": {},
     "output_type": "execute_result"
    }
   ],
   "source": [
    "df.isnull().sum()"
   ]
  },
  {
   "cell_type": "code",
   "execution_count": 23,
   "id": "b072fd78-179e-49ad-b213-7d4a0eccc8b4",
   "metadata": {},
   "outputs": [
    {
     "data": {
      "text/html": [
       "<div>\n",
       "<style scoped>\n",
       "    .dataframe tbody tr th:only-of-type {\n",
       "        vertical-align: middle;\n",
       "    }\n",
       "\n",
       "    .dataframe tbody tr th {\n",
       "        vertical-align: top;\n",
       "    }\n",
       "\n",
       "    .dataframe thead th {\n",
       "        text-align: right;\n",
       "    }\n",
       "</style>\n",
       "<table border=\"1\" class=\"dataframe\">\n",
       "  <thead>\n",
       "    <tr style=\"text-align: right;\">\n",
       "      <th></th>\n",
       "      <th>incident_info</th>\n",
       "      <th>description</th>\n",
       "      <th>start_dt</th>\n",
       "      <th>modified_dt</th>\n",
       "      <th>total_time</th>\n",
       "      <th>quadrant</th>\n",
       "      <th>longitude</th>\n",
       "      <th>latitude</th>\n",
       "      <th>point</th>\n",
       "    </tr>\n",
       "  </thead>\n",
       "  <tbody>\n",
       "    <tr>\n",
       "      <th>19563</th>\n",
       "      <td>Westbound Country Hills Boulevard approaching ...</td>\n",
       "      <td>Two vehicle incident. Blocking the right lane</td>\n",
       "      <td>2020-08-13 09:02:00</td>\n",
       "      <td>2020-08-13 09:02:00</td>\n",
       "      <td>0 days 00:00:00</td>\n",
       "      <td>NE</td>\n",
       "      <td>-114.013246</td>\n",
       "      <td>51.154430</td>\n",
       "      <td>{'type': 'Point', 'coordinates': [-114.0132459...</td>\n",
       "    </tr>\n",
       "    <tr>\n",
       "      <th>728</th>\n",
       "      <td>5 Street and 5 Avenue SW</td>\n",
       "      <td>Traffic incident.</td>\n",
       "      <td>2023-04-19 20:27:28</td>\n",
       "      <td>2023-04-19 20:28:24</td>\n",
       "      <td>0 days 00:00:56</td>\n",
       "      <td>SW</td>\n",
       "      <td>-114.073678</td>\n",
       "      <td>51.048696</td>\n",
       "      <td>{'type': 'Point', 'coordinates': [-114.0736784...</td>\n",
       "    </tr>\n",
       "    <tr>\n",
       "      <th>15556</th>\n",
       "      <td>17 Avenue and 85 Street SW</td>\n",
       "      <td>Traffic signals are flashing red. Crew has bee...</td>\n",
       "      <td>2021-04-16 13:16:00</td>\n",
       "      <td>2021-04-16 13:16:00</td>\n",
       "      <td>0 days 00:00:00</td>\n",
       "      <td>SW</td>\n",
       "      <td>-114.211375</td>\n",
       "      <td>51.038012</td>\n",
       "      <td>{'type': 'Point', 'coordinates': [-114.2113745...</td>\n",
       "    </tr>\n",
       "    <tr>\n",
       "      <th>3281</th>\n",
       "      <td>Eastbound Bow Trail at 26 Street SW</td>\n",
       "      <td>Stalled vehicle. Blocking the left lane</td>\n",
       "      <td>2022-12-09 13:56:32</td>\n",
       "      <td>2022-12-09 15:20:29</td>\n",
       "      <td>0 days 01:23:57</td>\n",
       "      <td>SW</td>\n",
       "      <td>-114.123902</td>\n",
       "      <td>51.041513</td>\n",
       "      <td>{'type': 'Point', 'coordinates': [-114.1239018...</td>\n",
       "    </tr>\n",
       "    <tr>\n",
       "      <th>12127</th>\n",
       "      <td>Northbound Deerfoot Trail and 64 Avenue NE</td>\n",
       "      <td>Two vehicle incident.</td>\n",
       "      <td>2021-10-23 12:59:00</td>\n",
       "      <td>2021-10-23 13:58:00</td>\n",
       "      <td>0 days 00:59:00</td>\n",
       "      <td>NE</td>\n",
       "      <td>-114.046431</td>\n",
       "      <td>51.117510</td>\n",
       "      <td>{'type': 'Point', 'coordinates': [-114.046431,...</td>\n",
       "    </tr>\n",
       "  </tbody>\n",
       "</table>\n",
       "</div>"
      ],
      "text/plain": [
       "                                           incident_info  \\\n",
       "19563  Westbound Country Hills Boulevard approaching ...   \n",
       "728                             5 Street and 5 Avenue SW   \n",
       "15556                         17 Avenue and 85 Street SW   \n",
       "3281                 Eastbound Bow Trail at 26 Street SW   \n",
       "12127         Northbound Deerfoot Trail and 64 Avenue NE   \n",
       "\n",
       "                                             description            start_dt  \\\n",
       "19563      Two vehicle incident. Blocking the right lane 2020-08-13 09:02:00   \n",
       "728                                    Traffic incident. 2023-04-19 20:27:28   \n",
       "15556  Traffic signals are flashing red. Crew has bee... 2021-04-16 13:16:00   \n",
       "3281             Stalled vehicle. Blocking the left lane 2022-12-09 13:56:32   \n",
       "12127                              Two vehicle incident. 2021-10-23 12:59:00   \n",
       "\n",
       "              modified_dt      total_time quadrant   longitude   latitude  \\\n",
       "19563 2020-08-13 09:02:00 0 days 00:00:00       NE -114.013246  51.154430   \n",
       "728   2023-04-19 20:28:24 0 days 00:00:56       SW -114.073678  51.048696   \n",
       "15556 2021-04-16 13:16:00 0 days 00:00:00       SW -114.211375  51.038012   \n",
       "3281  2022-12-09 15:20:29 0 days 01:23:57       SW -114.123902  51.041513   \n",
       "12127 2021-10-23 13:58:00 0 days 00:59:00       NE -114.046431  51.117510   \n",
       "\n",
       "                                                   point  \n",
       "19563  {'type': 'Point', 'coordinates': [-114.0132459...  \n",
       "728    {'type': 'Point', 'coordinates': [-114.0736784...  \n",
       "15556  {'type': 'Point', 'coordinates': [-114.2113745...  \n",
       "3281   {'type': 'Point', 'coordinates': [-114.1239018...  \n",
       "12127  {'type': 'Point', 'coordinates': [-114.046431,...  "
      ]
     },
     "execution_count": 23,
     "metadata": {},
     "output_type": "execute_result"
    }
   ],
   "source": [
    "df.sample(5)"
   ]
  },
  {
   "cell_type": "markdown",
   "id": "3c4b9a8f-59b2-47b1-8d41-8405358eb953",
   "metadata": {},
   "source": [
    "## 7. References and Resources"
   ]
  },
  {
   "cell_type": "markdown",
   "id": "54e517df-4636-4545-8e4a-92ca0b101c3d",
   "metadata": {},
   "source": [
    "### 7.1 References"
   ]
  },
  {
   "cell_type": "markdown",
   "id": "839ac6e5-4234-4e31-9000-8fc150bd11ae",
   "metadata": {},
   "source": [
    "### 7.2 Resources used"
   ]
  },
  {
   "cell_type": "markdown",
   "id": "ab42fac2-f91a-4b32-9d18-aaf297f77246",
   "metadata": {},
   "source": [
    "#### pandas Resources\n",
    "\n",
    "- pandas.Series.value_counts - pandas 2.0.2 documentation. (n.d.). https://pandas.pydata.org/docs/reference/api/pandas.Series.value_counts.html \n",
    "- Random sampling from a list in Python (random.choice, Sample, choices). (n.d.). https://note.nkmk.me/en/python-random-choice-sample-choices/ \n",
    "- How to replace all values in a pandas dataframe not in a list?. Stack Overflow. https://stackoverflow.com/questions/34866856/how-to-replace-all-values-in-a-pandas-dataframe-not-in-a-list \n",
    "- (2023, May 9). Replace nan values with zeros in pandas DataFrame. GeeksforGeeks. https://www.geeksforgeeks.org/replace-nan-values-with-zeros-in-pandas-dataframe/ \n",
    "- Pandas: Subtracting two date columns and the result being an integer. Stack Overflow. https://stackoverflow.com/questions/37840812/pandas-subtracting-two-date-columns-and-the-result-being-an-integer "
   ]
  },
  {
   "cell_type": "markdown",
   "id": "24e6f780-3f39-4831-8b78-017e58259f0d",
   "metadata": {},
   "source": [
    "#### Data Analysis Resources\n",
    "\n",
    "- Rob Mulla. (2021). Exploratory Data Analysis with Pandas Python 2023. YouTube. Retrieved May 30, 2023, from https://www.youtube.com/watch?v=xi0vhXFPegw&amp;t=372s.\n",
    "- Bhutaiya, R. (2022, February 25). Pandas - EDA: Smart way to replace nan. Medium. https://medium.com/analytics-vidhya/pandas-eda-smart-way-to-replace-nan-554aedc0b5b6 "
   ]
  },
  {
   "cell_type": "code",
   "execution_count": null,
   "id": "23d721c3-acb6-473e-a9f3-d6e388e4ff37",
   "metadata": {},
   "outputs": [],
   "source": []
  }
 ],
 "metadata": {
  "kernelspec": {
   "display_name": "Python 3 (ipykernel)",
   "language": "python",
   "name": "python3"
  },
  "language_info": {
   "codemirror_mode": {
    "name": "ipython",
    "version": 3
   },
   "file_extension": ".py",
   "mimetype": "text/x-python",
   "name": "python",
   "nbconvert_exporter": "python",
   "pygments_lexer": "ipython3",
   "version": "3.9.13"
  }
 },
 "nbformat": 4,
 "nbformat_minor": 5
}
